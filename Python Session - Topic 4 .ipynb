{
 "cells": [
  {
   "cell_type": "markdown",
   "metadata": {},
   "source": [
    "# Topic 4: Data Cleaning & Transformation\n",
    "-\tRegex (Regular expressions)\n",
    "-\tVariable Imputation\n",
    "    o\tMissing Value Treatment \n",
    "    o\tOutlier Treatment\n",
    "-\tVariable Binning\n",
    "-\tOne hot Encoder\n",
    "-\tVariable Transformation\n"
   ]
  },
  {
   "cell_type": "markdown",
   "metadata": {},
   "source": [
    "### 1.Why do we need Regular Experessions (REGEX) ?"
   ]
  },
  {
   "cell_type": "markdown",
   "metadata": {},
   "source": [
    "#### Dealing with text responses, helps to find or match a set of strings based on Patterns\n",
    "\n",
    "1. Match\n",
    "2. Search\n",
    "3. Search and Replace\n",
    "4. Split"
   ]
  },
  {
   "cell_type": "code",
   "execution_count": 1,
   "metadata": {
    "scrolled": true
   },
   "outputs": [],
   "source": [
    "import pandas as pd\n",
    "import numpy as np\n",
    "import warnings\n",
    "warnings.filterwarnings(\"ignore\")\n",
    "import re\n",
    "import os\n",
    "\n",
    "pd.set_option('display.max_colwidth', -1)"
   ]
  },
  {
   "cell_type": "markdown",
   "metadata": {},
   "source": [
    "### 1.1 Regex Fuctions"
   ]
  },
  {
   "cell_type": "markdown",
   "metadata": {},
   "source": [
    "#### Match - re.match(pattern, string)"
   ]
  },
  {
   "cell_type": "code",
   "execution_count": 2,
   "metadata": {
    "scrolled": true
   },
   "outputs": [
    {
     "name": "stdout",
     "output_type": "stream",
     "text": [
      "<_sre.SRE_Match object; span=(0, 3), match='dog'>\n"
     ]
    }
   ],
   "source": [
    "print(re.match('dog', 'dogs'))"
   ]
  },
  {
   "cell_type": "markdown",
   "metadata": {},
   "source": [
    "#### Search - re.search(pattern, string) OR re.findall(pattern, string)"
   ]
  },
  {
   "cell_type": "code",
   "execution_count": 3,
   "metadata": {
    "scrolled": true
   },
   "outputs": [
    {
     "name": "stdout",
     "output_type": "stream",
     "text": [
      "['cat', 'cat']\n"
     ]
    }
   ],
   "source": [
    "print(re.findall('cat', 'dfacatsab dfaabcat dog'))"
   ]
  },
  {
   "cell_type": "code",
   "execution_count": 4,
   "metadata": {
    "scrolled": true
   },
   "outputs": [
    {
     "name": "stdout",
     "output_type": "stream",
     "text": [
      "<_sre.SRE_Match object; span=(0, 3), match='cat'>\n"
     ]
    }
   ],
   "source": [
    "print(re.search('cat', 'cats dogs cat'))"
   ]
  },
  {
   "cell_type": "markdown",
   "metadata": {},
   "source": [
    "#### Search & Replace - re.sub(pattern, repl, string)"
   ]
  },
  {
   "cell_type": "code",
   "execution_count": 5,
   "metadata": {
    "scrolled": true
   },
   "outputs": [
    {
     "data": {
      "text/plain": [
       "'dog xx'"
      ]
     },
     "execution_count": 5,
     "metadata": {},
     "output_type": "execute_result"
    }
   ],
   "source": [
    "re.sub('cat', 'xx', 'dog cat')"
   ]
  },
  {
   "cell_type": "markdown",
   "metadata": {},
   "source": [
    "#### Split based on a character/delimiter - re.split(split_pattern, string)"
   ]
  },
  {
   "cell_type": "code",
   "execution_count": 6,
   "metadata": {
    "scrolled": true
   },
   "outputs": [
    {
     "name": "stdout",
     "output_type": "stream",
     "text": [
      "['ab', 'db', 'ef']\n"
     ]
    }
   ],
   "source": [
    "print(re.split('c','abcdbcef'))"
   ]
  },
  {
   "cell_type": "markdown",
   "metadata": {},
   "source": [
    "### 1.2 Patterns"
   ]
  },
  {
   "cell_type": "markdown",
   "metadata": {},
   "source": [
    "#### \"^\" - matches the start of a string"
   ]
  },
  {
   "cell_type": "code",
   "execution_count": 7,
   "metadata": {
    "scrolled": true
   },
   "outputs": [
    {
     "name": "stdout",
     "output_type": "stream",
     "text": [
      "['ab']\n"
     ]
    }
   ],
   "source": [
    "print(re.findall('^ab', 'ab afds'))"
   ]
  },
  {
   "cell_type": "markdown",
   "metadata": {},
   "source": [
    "#### \"\\w\" - matches the alphanumeric character in the string"
   ]
  },
  {
   "cell_type": "code",
   "execution_count": 8,
   "metadata": {
    "scrolled": true
   },
   "outputs": [
    {
     "name": "stdout",
     "output_type": "stream",
     "text": [
      "['a']\n"
     ]
    }
   ],
   "source": [
    "print(re.findall('^\\w', 'abdfasafds'))"
   ]
  },
  {
   "cell_type": "raw",
   "metadata": {},
   "source": [
    "#### \"\\w+\" -> + to get characters till blank space"
   ]
  },
  {
   "cell_type": "code",
   "execution_count": 9,
   "metadata": {
    "scrolled": true
   },
   "outputs": [
    {
     "name": "stdout",
     "output_type": "stream",
     "text": [
      "['abdfasafds4845']\n"
     ]
    }
   ],
   "source": [
    "print(re.findall('^\\w+', 'abdfasafds4845 dfas'))"
   ]
  },
  {
   "cell_type": "markdown",
   "metadata": {},
   "source": [
    "### 1.3 Numbers"
   ]
  },
  {
   "cell_type": "code",
   "execution_count": 10,
   "metadata": {
    "scrolled": true
   },
   "outputs": [],
   "source": [
    "# Numbers"
   ]
  },
  {
   "cell_type": "code",
   "execution_count": 11,
   "metadata": {
    "scrolled": true
   },
   "outputs": [
    {
     "name": "stdout",
     "output_type": "stream",
     "text": [
      "['1', '4', '8', '4', '6']\n"
     ]
    }
   ],
   "source": [
    "print(re.findall('[0-9]', 'abdfas14846s dfas'))"
   ]
  },
  {
   "cell_type": "code",
   "execution_count": 12,
   "metadata": {
    "scrolled": true
   },
   "outputs": [
    {
     "name": "stdout",
     "output_type": "stream",
     "text": [
      "['1', '4', '8', '4', '6']\n"
     ]
    }
   ],
   "source": [
    "print(re.findall('\\d', 'abdfas14846s dfas'))"
   ]
  },
  {
   "cell_type": "markdown",
   "metadata": {},
   "source": [
    "#### difference between [0-9] & \\d \n",
    "#### You specify the range of digits in [0-9]"
   ]
  },
  {
   "cell_type": "code",
   "execution_count": 13,
   "metadata": {
    "scrolled": true
   },
   "outputs": [
    {
     "name": "stdout",
     "output_type": "stream",
     "text": [
      "['1', '4', '4']\n"
     ]
    }
   ],
   "source": [
    "print(re.findall('[0-5]', 'abdfas14846s dfas'))"
   ]
  },
  {
   "cell_type": "markdown",
   "metadata": {},
   "source": [
    "#### to get the series of numbers "
   ]
  },
  {
   "cell_type": "code",
   "execution_count": 14,
   "metadata": {
    "scrolled": true
   },
   "outputs": [
    {
     "name": "stdout",
     "output_type": "stream",
     "text": [
      "['14846']\n"
     ]
    }
   ],
   "source": [
    "print(re.findall('[0-9]+', 'abdfas14846s dfas'))"
   ]
  },
  {
   "cell_type": "code",
   "execution_count": 15,
   "metadata": {
    "scrolled": true
   },
   "outputs": [
    {
     "name": "stdout",
     "output_type": "stream",
     "text": [
      "['14846']\n"
     ]
    }
   ],
   "source": [
    "print(re.findall('\\d+', 'abdfas14846s dfas'))"
   ]
  },
  {
   "cell_type": "markdown",
   "metadata": {},
   "source": [
    "### 1.4 Characters"
   ]
  },
  {
   "cell_type": "code",
   "execution_count": 16,
   "metadata": {
    "scrolled": true
   },
   "outputs": [
    {
     "name": "stdout",
     "output_type": "stream",
     "text": [
      "['a', 'a', 'z', 'a']\n"
     ]
    }
   ],
   "source": [
    "print(re.findall('[az]', 'abdfasz14846s dfasFASF'))"
   ]
  },
  {
   "cell_type": "code",
   "execution_count": 17,
   "metadata": {
    "scrolled": true
   },
   "outputs": [
    {
     "name": "stdout",
     "output_type": "stream",
     "text": [
      "['a', 'b', 'd', 'f', 'a', 's', 'z', 's', 'd', 'f', 'a', 's', 'S', 'D', 'F', 'A', 'S']\n"
     ]
    }
   ],
   "source": [
    "print(re.findall('[a-z|A-Z]', 'abdfasz14846s dfasSDFAS'))"
   ]
  },
  {
   "cell_type": "code",
   "execution_count": 18,
   "metadata": {
    "scrolled": true
   },
   "outputs": [
    {
     "name": "stdout",
     "output_type": "stream",
     "text": [
      "['abdfass', 'dfas']\n"
     ]
    }
   ],
   "source": [
    "print(re.findall('[a-z]+', 'abdfass dfasADFA'))"
   ]
  },
  {
   "cell_type": "code",
   "execution_count": 19,
   "metadata": {
    "scrolled": true
   },
   "outputs": [
    {
     "name": "stdout",
     "output_type": "stream",
     "text": [
      "['abdfas', 's', 'dfasADFA']\n"
     ]
    }
   ],
   "source": [
    "print(re.findall('[a-z|A-Z]+', 'abdfas14846s dfasADFA'))"
   ]
  },
  {
   "cell_type": "markdown",
   "metadata": {},
   "source": [
    "### 1.5 Special Charaters"
   ]
  },
  {
   "cell_type": "code",
   "execution_count": 20,
   "metadata": {
    "scrolled": true
   },
   "outputs": [
    {
     "data": {
      "text/plain": [
       "[' ', '*', ' ', ' ', '(', ')', ' ']"
      ]
     },
     "execution_count": 20,
     "metadata": {},
     "output_type": "execute_result"
    }
   ],
   "source": [
    "re.findall('\\W', \" *dfa  ()fasdf \")"
   ]
  },
  {
   "cell_type": "code",
   "execution_count": 21,
   "metadata": {
    "scrolled": true
   },
   "outputs": [
    {
     "data": {
      "text/plain": [
       "[' *', '()']"
      ]
     },
     "execution_count": 21,
     "metadata": {},
     "output_type": "execute_result"
    }
   ],
   "source": [
    "re.findall('\\W+', \" *ddfa()\")"
   ]
  },
  {
   "cell_type": "markdown",
   "metadata": {},
   "source": [
    "#### Greedy Qualifiers in Patterns (+, ?, *) - To match as much as possible with the texts"
   ]
  },
  {
   "cell_type": "code",
   "execution_count": 22,
   "metadata": {
    "scrolled": true
   },
   "outputs": [
    {
     "data": {
      "text/plain": [
       "['ab', 'a', 'ab', 'a', 'ab', 'a', 'a']"
      ]
     },
     "execution_count": 22,
     "metadata": {},
     "output_type": "execute_result"
    }
   ],
   "source": [
    "re.findall('ab?', \"*dabdfa()abcdaabcefaa\") ## ? mark applies to the charcter before the question mark"
   ]
  },
  {
   "cell_type": "code",
   "execution_count": 23,
   "metadata": {
    "scrolled": true
   },
   "outputs": [
    {
     "data": {
      "text/plain": [
       "['ab', 'abc', 'abc', 'abc']"
      ]
     },
     "execution_count": 23,
     "metadata": {},
     "output_type": "execute_result"
    }
   ],
   "source": [
    "re.findall('abc*', \" *dabdfa()abcdaabcefaa abc\")  ## * whatever be the characters post the pattern"
   ]
  },
  {
   "cell_type": "markdown",
   "metadata": {},
   "source": [
    "#### Meta characters need escape character for the patterns"
   ]
  },
  {
   "cell_type": "code",
   "execution_count": 24,
   "metadata": {
    "scrolled": true
   },
   "outputs": [],
   "source": [
    "# . ^ $ * ( ) [ ] + ? | { } \\ /"
   ]
  },
  {
   "cell_type": "code",
   "execution_count": 25,
   "metadata": {
    "scrolled": true
   },
   "outputs": [
    {
     "data": {
      "text/plain": [
       "['(']"
      ]
     },
     "execution_count": 25,
     "metadata": {},
     "output_type": "execute_result"
    }
   ],
   "source": [
    "re.findall('\\(', \" *dabdfa()abcdaabcefaa abc\") "
   ]
  },
  {
   "cell_type": "markdown",
   "metadata": {},
   "source": [
    "### 1.6 Applying Regex on Dataframe"
   ]
  },
  {
   "cell_type": "code",
   "execution_count": 26,
   "metadata": {
    "scrolled": true
   },
   "outputs": [],
   "source": [
    "#Dataframe Creation\n",
    "\n",
    "df = pd.DataFrame({'Table1': ['d2r', 'cd',\n",
    "                              'sd', 'rd'],\n",
    "                   'Item': ['380.', '(ab)', 'k', 'f']})"
   ]
  },
  {
   "cell_type": "code",
   "execution_count": 27,
   "metadata": {
    "scrolled": true
   },
   "outputs": [],
   "source": [
    "# option 1 - faster way\n",
    "df['Table1'] =  [re.sub('d','', str(x)) for x in df['Table1']]\n",
    "\n",
    "# option 2\n",
    "df['Table1'] =  df['Table1'].apply(lambda x: re.sub('d','', str(x)))"
   ]
  },
  {
   "cell_type": "code",
   "execution_count": 28,
   "metadata": {
    "scrolled": true
   },
   "outputs": [],
   "source": [
    "#Creating true or false\n",
    "df['New_Column'] = df.Table1.str.match('2r')"
   ]
  },
  {
   "cell_type": "code",
   "execution_count": 29,
   "metadata": {
    "scrolled": true
   },
   "outputs": [
    {
     "data": {
      "text/html": [
       "<div>\n",
       "<style scoped>\n",
       "    .dataframe tbody tr th:only-of-type {\n",
       "        vertical-align: middle;\n",
       "    }\n",
       "\n",
       "    .dataframe tbody tr th {\n",
       "        vertical-align: top;\n",
       "    }\n",
       "\n",
       "    .dataframe thead th {\n",
       "        text-align: right;\n",
       "    }\n",
       "</style>\n",
       "<table border=\"1\" class=\"dataframe\">\n",
       "  <thead>\n",
       "    <tr style=\"text-align: right;\">\n",
       "      <th></th>\n",
       "      <th>Table1</th>\n",
       "      <th>Item</th>\n",
       "      <th>New_Column</th>\n",
       "      <th>b</th>\n",
       "    </tr>\n",
       "  </thead>\n",
       "  <tbody>\n",
       "    <tr>\n",
       "      <td>0</td>\n",
       "      <td>2r</td>\n",
       "      <td>380.</td>\n",
       "      <td>True</td>\n",
       "      <td>[]</td>\n",
       "    </tr>\n",
       "    <tr>\n",
       "      <td>1</td>\n",
       "      <td>c</td>\n",
       "      <td>(ab)</td>\n",
       "      <td>False</td>\n",
       "      <td>[(]</td>\n",
       "    </tr>\n",
       "    <tr>\n",
       "      <td>2</td>\n",
       "      <td>s</td>\n",
       "      <td>k</td>\n",
       "      <td>False</td>\n",
       "      <td>[]</td>\n",
       "    </tr>\n",
       "    <tr>\n",
       "      <td>3</td>\n",
       "      <td>r</td>\n",
       "      <td>f</td>\n",
       "      <td>False</td>\n",
       "      <td>[]</td>\n",
       "    </tr>\n",
       "  </tbody>\n",
       "</table>\n",
       "</div>"
      ],
      "text/plain": [
       "  Table1  Item  New_Column    b\n",
       "0  2r     380.  True        [] \n",
       "1  c      (ab)  False       [(]\n",
       "2  s      k     False       [] \n",
       "3  r      f     False       [] "
      ]
     },
     "execution_count": 29,
     "metadata": {},
     "output_type": "execute_result"
    }
   ],
   "source": [
    "df['b'] = df['Item'].str.findall('\\\\(')\n",
    "df"
   ]
  },
  {
   "cell_type": "markdown",
   "metadata": {},
   "source": [
    "### Practice Questions"
   ]
  },
  {
   "cell_type": "code",
   "execution_count": 30,
   "metadata": {},
   "outputs": [
    {
     "name": "stdout",
     "output_type": "stream",
     "text": [
      "21 Ramkrishna Roader Rd.\n"
     ]
    }
   ],
   "source": [
    "#abbreviate 'Road' as 'Rd.' in a given string \n",
    "street = '21 Ramkrishna Roader Road'\n",
    "print(re.sub('Road$', 'Rd.', street))"
   ]
  },
  {
   "cell_type": "code",
   "execution_count": 31,
   "metadata": {},
   "outputs": [
    {
     "name": "stdout",
     "output_type": "stream",
     "text": [
      "['cat', 'rat']\n"
     ]
    }
   ],
   "source": [
    "# find all six characters long word in a string\n",
    "print(re.findall(r\"\\b\\w{3}\\b\", \"dogs cat puppy rat\"))"
   ]
  },
  {
   "cell_type": "code",
   "execution_count": 32,
   "metadata": {},
   "outputs": [
    {
     "data": {
      "text/plain": [
       "['https://w3resource.com', 'http://github.com']"
      ]
     },
     "execution_count": 32,
     "metadata": {},
     "output_type": "execute_result"
    }
   ],
   "source": [
    "#find urls in a string.\n",
    "text = '<a href=\"https://w3resource.com\">Python Examples</a><a href=\"http://github.com fasdf\">Even More Examples</a>'\n",
    "re.findall('http[s]?://(?:[a-zA-Z0-9]|[$-_@&.]com)+', text)"
   ]
  },
  {
   "cell_type": "markdown",
   "metadata": {},
   "source": [
    "### 2.Variable Imputaion"
   ]
  },
  {
   "cell_type": "markdown",
   "metadata": {},
   "source": [
    "#### Data Import and understanding"
   ]
  },
  {
   "cell_type": "code",
   "execution_count": 33,
   "metadata": {
    "scrolled": true
   },
   "outputs": [],
   "source": [
    "#Importing the dataset\n",
    "df = pd.read_csv('import.csv')"
   ]
  },
  {
   "cell_type": "code",
   "execution_count": 34,
   "metadata": {
    "scrolled": true
   },
   "outputs": [
    {
     "data": {
      "text/html": [
       "<div>\n",
       "<style scoped>\n",
       "    .dataframe tbody tr th:only-of-type {\n",
       "        vertical-align: middle;\n",
       "    }\n",
       "\n",
       "    .dataframe tbody tr th {\n",
       "        vertical-align: top;\n",
       "    }\n",
       "\n",
       "    .dataframe thead th {\n",
       "        text-align: right;\n",
       "    }\n",
       "</style>\n",
       "<table border=\"1\" class=\"dataframe\">\n",
       "  <thead>\n",
       "    <tr style=\"text-align: right;\">\n",
       "      <th></th>\n",
       "      <th>customerid</th>\n",
       "      <th>Age</th>\n",
       "      <th>Cartype</th>\n",
       "      <th>Income</th>\n",
       "      <th>Amount</th>\n",
       "    </tr>\n",
       "  </thead>\n",
       "  <tbody>\n",
       "    <tr>\n",
       "      <td>0</td>\n",
       "      <td>A12345</td>\n",
       "      <td>66</td>\n",
       "      <td>Edge</td>\n",
       "      <td>2500.0</td>\n",
       "      <td>10000</td>\n",
       "    </tr>\n",
       "    <tr>\n",
       "      <td>1</td>\n",
       "      <td>A123090</td>\n",
       "      <td>59</td>\n",
       "      <td>Escape</td>\n",
       "      <td>2721.0</td>\n",
       "      <td>4704</td>\n",
       "    </tr>\n",
       "    <tr>\n",
       "      <td>2</td>\n",
       "      <td>A233835</td>\n",
       "      <td>23</td>\n",
       "      <td>Fseries</td>\n",
       "      <td>3518.0</td>\n",
       "      <td>3765</td>\n",
       "    </tr>\n",
       "    <tr>\n",
       "      <td>3</td>\n",
       "      <td>A344580</td>\n",
       "      <td>45</td>\n",
       "      <td>NaN</td>\n",
       "      <td>2295.0</td>\n",
       "      <td>3923</td>\n",
       "    </tr>\n",
       "    <tr>\n",
       "      <td>4</td>\n",
       "      <td>A455325</td>\n",
       "      <td>49</td>\n",
       "      <td>Escape</td>\n",
       "      <td>1360.0</td>\n",
       "      <td>4897</td>\n",
       "    </tr>\n",
       "  </tbody>\n",
       "</table>\n",
       "</div>"
      ],
      "text/plain": [
       "  customerid  Age  Cartype  Income  Amount\n",
       "0  A12345     66   Edge     2500.0  10000 \n",
       "1  A123090    59   Escape   2721.0  4704  \n",
       "2  A233835    23   Fseries  3518.0  3765  \n",
       "3  A344580    45   NaN      2295.0  3923  \n",
       "4  A455325    49   Escape   1360.0  4897  "
      ]
     },
     "execution_count": 34,
     "metadata": {},
     "output_type": "execute_result"
    }
   ],
   "source": [
    "#View Data\n",
    "df.head()"
   ]
  },
  {
   "cell_type": "code",
   "execution_count": 35,
   "metadata": {
    "scrolled": true
   },
   "outputs": [
    {
     "data": {
      "text/plain": [
       "(32, 5)"
      ]
     },
     "execution_count": 35,
     "metadata": {},
     "output_type": "execute_result"
    }
   ],
   "source": [
    "df.shape"
   ]
  },
  {
   "cell_type": "code",
   "execution_count": 36,
   "metadata": {
    "scrolled": true
   },
   "outputs": [
    {
     "name": "stdout",
     "output_type": "stream",
     "text": [
      "<class 'pandas.core.frame.DataFrame'>\n",
      "RangeIndex: 32 entries, 0 to 31\n",
      "Data columns (total 5 columns):\n",
      "customerid    32 non-null object\n",
      "Age           32 non-null int64\n",
      "Cartype       27 non-null object\n",
      "Income        29 non-null float64\n",
      "Amount        32 non-null int64\n",
      "dtypes: float64(1), int64(2), object(2)\n",
      "memory usage: 1.4+ KB\n"
     ]
    }
   ],
   "source": [
    "df.info()"
   ]
  },
  {
   "cell_type": "code",
   "execution_count": 37,
   "metadata": {
    "scrolled": true
   },
   "outputs": [
    {
     "data": {
      "text/html": [
       "<div>\n",
       "<style scoped>\n",
       "    .dataframe tbody tr th:only-of-type {\n",
       "        vertical-align: middle;\n",
       "    }\n",
       "\n",
       "    .dataframe tbody tr th {\n",
       "        vertical-align: top;\n",
       "    }\n",
       "\n",
       "    .dataframe thead th {\n",
       "        text-align: right;\n",
       "    }\n",
       "</style>\n",
       "<table border=\"1\" class=\"dataframe\">\n",
       "  <thead>\n",
       "    <tr style=\"text-align: right;\">\n",
       "      <th></th>\n",
       "      <th>customerid</th>\n",
       "      <th>Age</th>\n",
       "      <th>Cartype</th>\n",
       "      <th>Income</th>\n",
       "      <th>Amount</th>\n",
       "    </tr>\n",
       "  </thead>\n",
       "  <tbody>\n",
       "    <tr>\n",
       "      <td>0</td>\n",
       "      <td>A12345</td>\n",
       "      <td>66</td>\n",
       "      <td>Edge</td>\n",
       "      <td>2500.0</td>\n",
       "      <td>10000</td>\n",
       "    </tr>\n",
       "    <tr>\n",
       "      <td>1</td>\n",
       "      <td>A123090</td>\n",
       "      <td>59</td>\n",
       "      <td>Escape</td>\n",
       "      <td>2721.0</td>\n",
       "      <td>4704</td>\n",
       "    </tr>\n",
       "    <tr>\n",
       "      <td>2</td>\n",
       "      <td>A233835</td>\n",
       "      <td>23</td>\n",
       "      <td>Fseries</td>\n",
       "      <td>3518.0</td>\n",
       "      <td>3765</td>\n",
       "    </tr>\n",
       "    <tr>\n",
       "      <td>3</td>\n",
       "      <td>A344580</td>\n",
       "      <td>45</td>\n",
       "      <td>NaN</td>\n",
       "      <td>2295.0</td>\n",
       "      <td>3923</td>\n",
       "    </tr>\n",
       "    <tr>\n",
       "      <td>4</td>\n",
       "      <td>A455325</td>\n",
       "      <td>49</td>\n",
       "      <td>Escape</td>\n",
       "      <td>1360.0</td>\n",
       "      <td>4897</td>\n",
       "    </tr>\n",
       "  </tbody>\n",
       "</table>\n",
       "</div>"
      ],
      "text/plain": [
       "  customerid  Age  Cartype  Income  Amount\n",
       "0  A12345     66   Edge     2500.0  10000 \n",
       "1  A123090    59   Escape   2721.0  4704  \n",
       "2  A233835    23   Fseries  3518.0  3765  \n",
       "3  A344580    45   NaN      2295.0  3923  \n",
       "4  A455325    49   Escape   1360.0  4897  "
      ]
     },
     "execution_count": 37,
     "metadata": {},
     "output_type": "execute_result"
    }
   ],
   "source": [
    "df.head()"
   ]
  },
  {
   "cell_type": "markdown",
   "metadata": {},
   "source": [
    "### 2.1 Handling null values "
   ]
  },
  {
   "cell_type": "code",
   "execution_count": 38,
   "metadata": {
    "scrolled": true
   },
   "outputs": [
    {
     "data": {
      "text/plain": [
       "customerid    0\n",
       "Age           0\n",
       "Cartype       5\n",
       "Income        3\n",
       "Amount        0\n",
       "dtype: int64"
      ]
     },
     "execution_count": 38,
     "metadata": {},
     "output_type": "execute_result"
    }
   ],
   "source": [
    "df.isnull().sum()"
   ]
  },
  {
   "cell_type": "markdown",
   "metadata": {},
   "source": [
    "#### Droping Null values "
   ]
  },
  {
   "cell_type": "code",
   "execution_count": 39,
   "metadata": {
    "scrolled": true
   },
   "outputs": [
    {
     "data": {
      "text/plain": [
       "(25, 5)"
      ]
     },
     "execution_count": 39,
     "metadata": {},
     "output_type": "execute_result"
    }
   ],
   "source": [
    "data1 = df.dropna()\n",
    "data1.shape"
   ]
  },
  {
   "cell_type": "code",
   "execution_count": 40,
   "metadata": {
    "scrolled": true
   },
   "outputs": [
    {
     "data": {
      "text/plain": [
       "(27, 5)"
      ]
     },
     "execution_count": 40,
     "metadata": {},
     "output_type": "execute_result"
    }
   ],
   "source": [
    "df1 = df.dropna(subset=['Cartype'])\n",
    "df1.shape"
   ]
  },
  {
   "cell_type": "markdown",
   "metadata": {},
   "source": [
    "#### Imputing Null Values"
   ]
  },
  {
   "cell_type": "code",
   "execution_count": 41,
   "metadata": {
    "scrolled": true
   },
   "outputs": [],
   "source": [
    "data2 = df.fillna(df.median())"
   ]
  },
  {
   "cell_type": "code",
   "execution_count": 42,
   "metadata": {
    "scrolled": true
   },
   "outputs": [
    {
     "data": {
      "text/html": [
       "<div>\n",
       "<style scoped>\n",
       "    .dataframe tbody tr th:only-of-type {\n",
       "        vertical-align: middle;\n",
       "    }\n",
       "\n",
       "    .dataframe tbody tr th {\n",
       "        vertical-align: top;\n",
       "    }\n",
       "\n",
       "    .dataframe thead th {\n",
       "        text-align: right;\n",
       "    }\n",
       "</style>\n",
       "<table border=\"1\" class=\"dataframe\">\n",
       "  <thead>\n",
       "    <tr style=\"text-align: right;\">\n",
       "      <th></th>\n",
       "      <th>customerid</th>\n",
       "      <th>Age</th>\n",
       "      <th>Cartype</th>\n",
       "      <th>Income</th>\n",
       "      <th>Amount</th>\n",
       "    </tr>\n",
       "  </thead>\n",
       "  <tbody>\n",
       "    <tr>\n",
       "      <td>0</td>\n",
       "      <td>A12345</td>\n",
       "      <td>66</td>\n",
       "      <td>Edge</td>\n",
       "      <td>2500.0</td>\n",
       "      <td>10000</td>\n",
       "    </tr>\n",
       "    <tr>\n",
       "      <td>1</td>\n",
       "      <td>A123090</td>\n",
       "      <td>59</td>\n",
       "      <td>Escape</td>\n",
       "      <td>2721.0</td>\n",
       "      <td>4704</td>\n",
       "    </tr>\n",
       "    <tr>\n",
       "      <td>2</td>\n",
       "      <td>A233835</td>\n",
       "      <td>23</td>\n",
       "      <td>Fseries</td>\n",
       "      <td>3518.0</td>\n",
       "      <td>3765</td>\n",
       "    </tr>\n",
       "    <tr>\n",
       "      <td>3</td>\n",
       "      <td>A344580</td>\n",
       "      <td>45</td>\n",
       "      <td>NaN</td>\n",
       "      <td>2295.0</td>\n",
       "      <td>3923</td>\n",
       "    </tr>\n",
       "    <tr>\n",
       "      <td>4</td>\n",
       "      <td>A455325</td>\n",
       "      <td>49</td>\n",
       "      <td>Escape</td>\n",
       "      <td>1360.0</td>\n",
       "      <td>4897</td>\n",
       "    </tr>\n",
       "  </tbody>\n",
       "</table>\n",
       "</div>"
      ],
      "text/plain": [
       "  customerid  Age  Cartype  Income  Amount\n",
       "0  A12345     66   Edge     2500.0  10000 \n",
       "1  A123090    59   Escape   2721.0  4704  \n",
       "2  A233835    23   Fseries  3518.0  3765  \n",
       "3  A344580    45   NaN      2295.0  3923  \n",
       "4  A455325    49   Escape   1360.0  4897  "
      ]
     },
     "execution_count": 42,
     "metadata": {},
     "output_type": "execute_result"
    }
   ],
   "source": [
    "data2.head()"
   ]
  },
  {
   "cell_type": "code",
   "execution_count": 43,
   "metadata": {
    "scrolled": true
   },
   "outputs": [
    {
     "data": {
      "text/plain": [
       "customerid    0\n",
       "Age           0\n",
       "Cartype       5\n",
       "Income        0\n",
       "Amount        0\n",
       "dtype: int64"
      ]
     },
     "execution_count": 43,
     "metadata": {},
     "output_type": "execute_result"
    }
   ],
   "source": [
    "data2.isnull().sum()"
   ]
  },
  {
   "cell_type": "code",
   "execution_count": 44,
   "metadata": {
    "scrolled": true
   },
   "outputs": [],
   "source": [
    "# Categorical\n",
    "data2['Cartype'].fillna('Missing', inplace=True)"
   ]
  },
  {
   "cell_type": "code",
   "execution_count": 45,
   "metadata": {
    "scrolled": true
   },
   "outputs": [
    {
     "data": {
      "text/plain": [
       "customerid    0\n",
       "Age           0\n",
       "Cartype       0\n",
       "Income        0\n",
       "Amount        0\n",
       "dtype: int64"
      ]
     },
     "execution_count": 45,
     "metadata": {},
     "output_type": "execute_result"
    }
   ],
   "source": [
    "data2.isnull().sum()"
   ]
  },
  {
   "cell_type": "code",
   "execution_count": 46,
   "metadata": {
    "scrolled": true
   },
   "outputs": [
    {
     "name": "stdout",
     "output_type": "stream",
     "text": [
      "<class 'pandas.core.frame.DataFrame'>\n",
      "RangeIndex: 32 entries, 0 to 31\n",
      "Data columns (total 5 columns):\n",
      "customerid    32 non-null object\n",
      "Age           32 non-null int64\n",
      "Cartype       32 non-null object\n",
      "Income        32 non-null float64\n",
      "Amount        32 non-null int64\n",
      "dtypes: float64(1), int64(2), object(2)\n",
      "memory usage: 1.4+ KB\n"
     ]
    }
   ],
   "source": [
    "data2.info()"
   ]
  },
  {
   "cell_type": "markdown",
   "metadata": {},
   "source": [
    "#### Auto Impute : https://pypi.org/project/autoimpute/"
   ]
  },
  {
   "cell_type": "markdown",
   "metadata": {},
   "source": [
    "#### 2.2 Outlier Treatement"
   ]
  },
  {
   "cell_type": "code",
   "execution_count": 47,
   "metadata": {
    "scrolled": true
   },
   "outputs": [],
   "source": [
    "#Box plot\n",
    "import glob\n",
    "import pandas as pd\n",
    "import numpy as np\n",
    "import seaborn as sns\n",
    "import matplotlib.pyplot as plt"
   ]
  },
  {
   "cell_type": "markdown",
   "metadata": {},
   "source": [
    "#### Box Plot"
   ]
  },
  {
   "cell_type": "code",
   "execution_count": 48,
   "metadata": {
    "scrolled": true
   },
   "outputs": [
    {
     "data": {
      "text/plain": [
       "<matplotlib.axes._subplots.AxesSubplot at 0x122abcad9e8>"
      ]
     },
     "execution_count": 48,
     "metadata": {},
     "output_type": "execute_result"
    },
    {
     "data": {
      "image/png": "[encoded data removed]",
      "text/plain": [
       "<Figure size 432x288 with 1 Axes>"
      ]
     },
     "metadata": {},
     "output_type": "display_data"
    }
   ],
   "source": [
    "sns.boxplot(x=df['Income'])"
   ]
  },
  {
   "cell_type": "code",
   "execution_count": 49,
   "metadata": {},
   "outputs": [
    {
     "data": {
      "text/plain": [
       "<matplotlib.axes._subplots.AxesSubplot at 0x122abfa6a20>"
      ]
     },
     "execution_count": 49,
     "metadata": {},
     "output_type": "execute_result"
    },
    {
     "data": {
      "image/png": "[encoded data removed]",
      "text/plain": [
       "<Figure size 432x288 with 1 Axes>"
      ]
     },
     "metadata": {},
     "output_type": "display_data"
    }
   ],
   "source": [
    "sns.boxplot(x=df['Amount'])"
   ]
  },
  {
   "cell_type": "markdown",
   "metadata": {},
   "source": [
    "What are criteria to identify an outlier?\n",
    "Data point that falls outside of 1.5 times of an Interquartile range above the 3rd quartile (Q3)\n",
    "and below the 1st quartile (Q1)"
   ]
  },
  {
   "cell_type": "code",
   "execution_count": 50,
   "metadata": {
    "scrolled": true
   },
   "outputs": [
    {
     "name": "stdout",
     "output_type": "stream",
     "text": [
      "3217.75\n",
      "4657.25\n",
      "1439.5\n",
      "1058.5 6816.5\n"
     ]
    }
   ],
   "source": [
    "Q1=df['Amount'].quantile(0.25)\n",
    "Q3=df['Amount'].quantile(0.75)\n",
    "IQR=Q3-Q1\n",
    "print(Q1)\n",
    "print(Q3)\n",
    "print(IQR)\n",
    "Lower_Whisker = Q1-1.5*IQR\n",
    "Upper_Whisker = Q3+1.5*IQR\n",
    "print(Lower_Whisker, Upper_Whisker)"
   ]
  },
  {
   "cell_type": "code",
   "execution_count": 51,
   "metadata": {},
   "outputs": [
    {
     "data": {
      "text/plain": [
       "(32, 5)"
      ]
     },
     "execution_count": 51,
     "metadata": {},
     "output_type": "execute_result"
    }
   ],
   "source": [
    "df.shape"
   ]
  },
  {
   "cell_type": "code",
   "execution_count": 52,
   "metadata": {
    "scrolled": true
   },
   "outputs": [],
   "source": [
    "#Treatment\n",
    "df = df[df['Amount']< Upper_Whisker]"
   ]
  },
  {
   "cell_type": "code",
   "execution_count": 53,
   "metadata": {},
   "outputs": [
    {
     "data": {
      "text/plain": [
       "(28, 5)"
      ]
     },
     "execution_count": 53,
     "metadata": {},
     "output_type": "execute_result"
    }
   ],
   "source": [
    "df.shape"
   ]
  },
  {
   "cell_type": "code",
   "execution_count": 54,
   "metadata": {
    "scrolled": true
   },
   "outputs": [
    {
     "data": {
      "text/plain": [
       "(array([0, 1, 2]), <a list of 3 Text xticklabel objects>)"
      ]
     },
     "execution_count": 54,
     "metadata": {},
     "output_type": "execute_result"
    },
    {
     "data": {
      "image/png": "[encoded data removed]",
      "text/plain": [
       "<Figure size 1800x720 with 1 Axes>"
      ]
     },
     "metadata": {},
     "output_type": "display_data"
    }
   ],
   "source": [
    "#seaborn.boxplot(x=None, y=None, hue=None, data=None, order=None, hue_order=None, orient=None, color=None, palette=None, saturation=0.75, width=0.8, dodge=True, fliersize=5, linewidth=None, whis=1.5, notch=False, ax=None, **kwargs)\n",
    "plt.figure(figsize=(25, 10))\n",
    "chart=sns.boxplot(df['Cartype'],df['Income'],color=None,palette=None)\n",
    "plt.xticks(\n",
    "    rotation=45, \n",
    "    horizontalalignment='right',\n",
    "    fontweight='light',\n",
    "    fontsize='x-large'  \n",
    ")"
   ]
  },
  {
   "cell_type": "markdown",
   "metadata": {},
   "source": [
    "#### Zscore\n",
    "\n",
    "What are criteria to identify an outlier?\n",
    "      \n",
    " Data point that falls outside of 3 standard deviations. we can use a z score and if the z score falls outside of 2 standard deviation."
   ]
  },
  {
   "cell_type": "code",
   "execution_count": 55,
   "metadata": {
    "scrolled": true
   },
   "outputs": [
    {
     "name": "stdout",
     "output_type": "stream",
     "text": [
      "[1.21680252 0.10360541 0.29091653 1.44560662 0.66672429 0.33833707\n",
      " 0.01968799 1.32468424 0.5496125  0.17947827 0.1003029  0.10716195\n",
      " 1.14330069 1.67585026 0.54368493 0.39761274 0.99748254 1.21561701\n",
      " 1.28463083 1.06742783 0.25179459 1.70430258 1.76357825 0.0858227\n",
      " 0.62311433 1.43163449 1.72208528 0.58610937]\n"
     ]
    }
   ],
   "source": [
    "from scipy import stats\n",
    "z=np.abs(stats.zscore(df.Amount))\n",
    "print(z)"
   ]
  },
  {
   "cell_type": "code",
   "execution_count": 56,
   "metadata": {
    "scrolled": true
   },
   "outputs": [
    {
     "name": "stdout",
     "output_type": "stream",
     "text": [
      "(array([], dtype=int64),)\n"
     ]
    }
   ],
   "source": [
    "threshold=3\n",
    "print(np.where(z>3))"
   ]
  },
  {
   "cell_type": "code",
   "execution_count": 57,
   "metadata": {
    "scrolled": true
   },
   "outputs": [
    {
     "data": {
      "text/html": [
       "<div>\n",
       "<style scoped>\n",
       "    .dataframe tbody tr th:only-of-type {\n",
       "        vertical-align: middle;\n",
       "    }\n",
       "\n",
       "    .dataframe tbody tr th {\n",
       "        vertical-align: top;\n",
       "    }\n",
       "\n",
       "    .dataframe thead th {\n",
       "        text-align: right;\n",
       "    }\n",
       "</style>\n",
       "<table border=\"1\" class=\"dataframe\">\n",
       "  <thead>\n",
       "    <tr style=\"text-align: right;\">\n",
       "      <th></th>\n",
       "      <th>customerid</th>\n",
       "      <th>Age</th>\n",
       "      <th>Cartype</th>\n",
       "      <th>Income</th>\n",
       "      <th>Amount</th>\n",
       "    </tr>\n",
       "  </thead>\n",
       "  <tbody>\n",
       "    <tr>\n",
       "      <td>1</td>\n",
       "      <td>A123090</td>\n",
       "      <td>59</td>\n",
       "      <td>Escape</td>\n",
       "      <td>2721.0</td>\n",
       "      <td>4704</td>\n",
       "    </tr>\n",
       "    <tr>\n",
       "      <td>2</td>\n",
       "      <td>A233835</td>\n",
       "      <td>23</td>\n",
       "      <td>Fseries</td>\n",
       "      <td>3518.0</td>\n",
       "      <td>3765</td>\n",
       "    </tr>\n",
       "    <tr>\n",
       "      <td>3</td>\n",
       "      <td>A344580</td>\n",
       "      <td>45</td>\n",
       "      <td>NaN</td>\n",
       "      <td>2295.0</td>\n",
       "      <td>3923</td>\n",
       "    </tr>\n",
       "    <tr>\n",
       "      <td>4</td>\n",
       "      <td>A455325</td>\n",
       "      <td>49</td>\n",
       "      <td>Escape</td>\n",
       "      <td>1360.0</td>\n",
       "      <td>4897</td>\n",
       "    </tr>\n",
       "    <tr>\n",
       "      <td>5</td>\n",
       "      <td>A566070</td>\n",
       "      <td>57</td>\n",
       "      <td>Escape</td>\n",
       "      <td>4493.0</td>\n",
       "      <td>4240</td>\n",
       "    </tr>\n",
       "  </tbody>\n",
       "</table>\n",
       "</div>"
      ],
      "text/plain": [
       "  customerid  Age  Cartype  Income  Amount\n",
       "1  A123090    59   Escape   2721.0  4704  \n",
       "2  A233835    23   Fseries  3518.0  3765  \n",
       "3  A344580    45   NaN      2295.0  3923  \n",
       "4  A455325    49   Escape   1360.0  4897  \n",
       "5  A566070    57   Escape   4493.0  4240  "
      ]
     },
     "execution_count": 57,
     "metadata": {},
     "output_type": "execute_result"
    }
   ],
   "source": [
    "df1=df[(z< 3)]\n",
    "df1.head()"
   ]
  },
  {
   "cell_type": "code",
   "execution_count": 95,
   "metadata": {},
   "outputs": [
    {
     "data": {
      "text/plain": [
       "(28, 5)"
      ]
     },
     "execution_count": 95,
     "metadata": {},
     "output_type": "execute_result"
    }
   ],
   "source": [
    "df1.shape"
   ]
  },
  {
   "cell_type": "markdown",
   "metadata": {},
   "source": [
    "### 3. Variable Binning"
   ]
  },
  {
   "cell_type": "code",
   "execution_count": 58,
   "metadata": {
    "scrolled": true
   },
   "outputs": [
    {
     "data": {
      "text/plain": [
       "<matplotlib.axes._subplots.AxesSubplot at 0x122ad07f160>"
      ]
     },
     "execution_count": 58,
     "metadata": {},
     "output_type": "execute_result"
    },
    {
     "data": {
      "image/png": "[encoded data removed]",
      "text/plain": [
       "<Figure size 432x288 with 1 Axes>"
      ]
     },
     "metadata": {},
     "output_type": "display_data"
    }
   ],
   "source": [
    "df1['Amount'].plot(kind='hist')"
   ]
  },
  {
   "cell_type": "code",
   "execution_count": 59,
   "metadata": {
    "scrolled": true
   },
   "outputs": [
    {
     "data": {
      "text/plain": [
       "Escape     11\n",
       "Fseries    8 \n",
       "Edge       8 \n",
       "Missing    5 \n",
       "Name: Cartype, dtype: int64"
      ]
     },
     "execution_count": 59,
     "metadata": {},
     "output_type": "execute_result"
    }
   ],
   "source": [
    "data2['Cartype'].value_counts()"
   ]
  },
  {
   "cell_type": "code",
   "execution_count": 60,
   "metadata": {
    "scrolled": true
   },
   "outputs": [],
   "source": [
    "df2 = data2.groupby(['Cartype'])['Income'].sum().reset_index()"
   ]
  },
  {
   "cell_type": "code",
   "execution_count": 61,
   "metadata": {
    "scrolled": true
   },
   "outputs": [],
   "source": [
    "df3 = data1.groupby(['Cartype'])['Income'].count().reset_index()\n",
    "df3 = df3.rename(columns={'Income':'Count'})"
   ]
  },
  {
   "cell_type": "code",
   "execution_count": 62,
   "metadata": {
    "scrolled": true
   },
   "outputs": [
    {
     "data": {
      "text/html": [
       "<div>\n",
       "<style scoped>\n",
       "    .dataframe tbody tr th:only-of-type {\n",
       "        vertical-align: middle;\n",
       "    }\n",
       "\n",
       "    .dataframe tbody tr th {\n",
       "        vertical-align: top;\n",
       "    }\n",
       "\n",
       "    .dataframe thead th {\n",
       "        text-align: right;\n",
       "    }\n",
       "</style>\n",
       "<table border=\"1\" class=\"dataframe\">\n",
       "  <thead>\n",
       "    <tr style=\"text-align: right;\">\n",
       "      <th></th>\n",
       "      <th>Cartype</th>\n",
       "      <th>Count</th>\n",
       "    </tr>\n",
       "  </thead>\n",
       "  <tbody>\n",
       "    <tr>\n",
       "      <td>0</td>\n",
       "      <td>Edge</td>\n",
       "      <td>7</td>\n",
       "    </tr>\n",
       "    <tr>\n",
       "      <td>1</td>\n",
       "      <td>Escape</td>\n",
       "      <td>10</td>\n",
       "    </tr>\n",
       "    <tr>\n",
       "      <td>2</td>\n",
       "      <td>Fseries</td>\n",
       "      <td>8</td>\n",
       "    </tr>\n",
       "  </tbody>\n",
       "</table>\n",
       "</div>"
      ],
      "text/plain": [
       "   Cartype  Count\n",
       "0  Edge     7    \n",
       "1  Escape   10   \n",
       "2  Fseries  8    "
      ]
     },
     "execution_count": 62,
     "metadata": {},
     "output_type": "execute_result"
    }
   ],
   "source": [
    "df3"
   ]
  },
  {
   "cell_type": "code",
   "execution_count": 63,
   "metadata": {
    "scrolled": true
   },
   "outputs": [],
   "source": [
    "threshold = np.percentile(df3['Count'],40) "
   ]
  },
  {
   "cell_type": "code",
   "execution_count": 64,
   "metadata": {
    "scrolled": true
   },
   "outputs": [
    {
     "data": {
      "text/plain": [
       "7.8"
      ]
     },
     "execution_count": 64,
     "metadata": {},
     "output_type": "execute_result"
    }
   ],
   "source": [
    "threshold"
   ]
  },
  {
   "cell_type": "markdown",
   "metadata": {},
   "source": [
    "#### Group the lower volume classes to a group 'Other'"
   ]
  },
  {
   "cell_type": "code",
   "execution_count": 65,
   "metadata": {
    "scrolled": true
   },
   "outputs": [],
   "source": [
    "df3['CarType_new']=np.where(df3['Count']<threshold, 'Other', df3['Cartype'])"
   ]
  },
  {
   "cell_type": "code",
   "execution_count": 66,
   "metadata": {
    "scrolled": true
   },
   "outputs": [
    {
     "data": {
      "text/html": [
       "<div>\n",
       "<style scoped>\n",
       "    .dataframe tbody tr th:only-of-type {\n",
       "        vertical-align: middle;\n",
       "    }\n",
       "\n",
       "    .dataframe tbody tr th {\n",
       "        vertical-align: top;\n",
       "    }\n",
       "\n",
       "    .dataframe thead th {\n",
       "        text-align: right;\n",
       "    }\n",
       "</style>\n",
       "<table border=\"1\" class=\"dataframe\">\n",
       "  <thead>\n",
       "    <tr style=\"text-align: right;\">\n",
       "      <th></th>\n",
       "      <th>Cartype</th>\n",
       "      <th>Count</th>\n",
       "      <th>CarType_new</th>\n",
       "    </tr>\n",
       "  </thead>\n",
       "  <tbody>\n",
       "    <tr>\n",
       "      <td>0</td>\n",
       "      <td>Edge</td>\n",
       "      <td>7</td>\n",
       "      <td>Other</td>\n",
       "    </tr>\n",
       "    <tr>\n",
       "      <td>1</td>\n",
       "      <td>Escape</td>\n",
       "      <td>10</td>\n",
       "      <td>Escape</td>\n",
       "    </tr>\n",
       "    <tr>\n",
       "      <td>2</td>\n",
       "      <td>Fseries</td>\n",
       "      <td>8</td>\n",
       "      <td>Fseries</td>\n",
       "    </tr>\n",
       "  </tbody>\n",
       "</table>\n",
       "</div>"
      ],
      "text/plain": [
       "   Cartype  Count CarType_new\n",
       "0  Edge     7      Other     \n",
       "1  Escape   10     Escape    \n",
       "2  Fseries  8      Fseries   "
      ]
     },
     "execution_count": 66,
     "metadata": {},
     "output_type": "execute_result"
    }
   ],
   "source": [
    "df3"
   ]
  },
  {
   "cell_type": "markdown",
   "metadata": {},
   "source": [
    "### 4. Onehot Encoder"
   ]
  },
  {
   "cell_type": "markdown",
   "metadata": {},
   "source": [
    "#### 4.1 Get Dummies method"
   ]
  },
  {
   "cell_type": "code",
   "execution_count": 67,
   "metadata": {
    "scrolled": true
   },
   "outputs": [
    {
     "data": {
      "text/html": [
       "<div>\n",
       "<style scoped>\n",
       "    .dataframe tbody tr th:only-of-type {\n",
       "        vertical-align: middle;\n",
       "    }\n",
       "\n",
       "    .dataframe tbody tr th {\n",
       "        vertical-align: top;\n",
       "    }\n",
       "\n",
       "    .dataframe thead th {\n",
       "        text-align: right;\n",
       "    }\n",
       "</style>\n",
       "<table border=\"1\" class=\"dataframe\">\n",
       "  <thead>\n",
       "    <tr style=\"text-align: right;\">\n",
       "      <th></th>\n",
       "      <th>Car_Edge</th>\n",
       "      <th>Car_Escape</th>\n",
       "      <th>Car_Fseries</th>\n",
       "      <th>Car_Missing</th>\n",
       "    </tr>\n",
       "  </thead>\n",
       "  <tbody>\n",
       "    <tr>\n",
       "      <td>0</td>\n",
       "      <td>1</td>\n",
       "      <td>0</td>\n",
       "      <td>0</td>\n",
       "      <td>0</td>\n",
       "    </tr>\n",
       "    <tr>\n",
       "      <td>1</td>\n",
       "      <td>0</td>\n",
       "      <td>1</td>\n",
       "      <td>0</td>\n",
       "      <td>0</td>\n",
       "    </tr>\n",
       "    <tr>\n",
       "      <td>2</td>\n",
       "      <td>0</td>\n",
       "      <td>0</td>\n",
       "      <td>1</td>\n",
       "      <td>0</td>\n",
       "    </tr>\n",
       "    <tr>\n",
       "      <td>3</td>\n",
       "      <td>0</td>\n",
       "      <td>0</td>\n",
       "      <td>0</td>\n",
       "      <td>1</td>\n",
       "    </tr>\n",
       "    <tr>\n",
       "      <td>4</td>\n",
       "      <td>0</td>\n",
       "      <td>1</td>\n",
       "      <td>0</td>\n",
       "      <td>0</td>\n",
       "    </tr>\n",
       "  </tbody>\n",
       "</table>\n",
       "</div>"
      ],
      "text/plain": [
       "   Car_Edge  Car_Escape  Car_Fseries  Car_Missing\n",
       "0  1         0           0            0          \n",
       "1  0         1           0            0          \n",
       "2  0         0           1            0          \n",
       "3  0         0           0            1          \n",
       "4  0         1           0            0          "
      ]
     },
     "execution_count": 67,
     "metadata": {},
     "output_type": "execute_result"
    }
   ],
   "source": [
    "gd=pd.get_dummies(data2['Cartype'], prefix='Car')\n",
    "gd.head()"
   ]
  },
  {
   "cell_type": "code",
   "execution_count": 68,
   "metadata": {
    "scrolled": true
   },
   "outputs": [
    {
     "data": {
      "text/html": [
       "<div>\n",
       "<style scoped>\n",
       "    .dataframe tbody tr th:only-of-type {\n",
       "        vertical-align: middle;\n",
       "    }\n",
       "\n",
       "    .dataframe tbody tr th {\n",
       "        vertical-align: top;\n",
       "    }\n",
       "\n",
       "    .dataframe thead th {\n",
       "        text-align: right;\n",
       "    }\n",
       "</style>\n",
       "<table border=\"1\" class=\"dataframe\">\n",
       "  <thead>\n",
       "    <tr style=\"text-align: right;\">\n",
       "      <th></th>\n",
       "      <th>Car_Escape</th>\n",
       "      <th>Car_Fseries</th>\n",
       "      <th>Car_Missing</th>\n",
       "    </tr>\n",
       "  </thead>\n",
       "  <tbody>\n",
       "    <tr>\n",
       "      <td>0</td>\n",
       "      <td>0</td>\n",
       "      <td>0</td>\n",
       "      <td>0</td>\n",
       "    </tr>\n",
       "    <tr>\n",
       "      <td>1</td>\n",
       "      <td>1</td>\n",
       "      <td>0</td>\n",
       "      <td>0</td>\n",
       "    </tr>\n",
       "    <tr>\n",
       "      <td>2</td>\n",
       "      <td>0</td>\n",
       "      <td>1</td>\n",
       "      <td>0</td>\n",
       "    </tr>\n",
       "    <tr>\n",
       "      <td>3</td>\n",
       "      <td>0</td>\n",
       "      <td>0</td>\n",
       "      <td>1</td>\n",
       "    </tr>\n",
       "    <tr>\n",
       "      <td>4</td>\n",
       "      <td>1</td>\n",
       "      <td>0</td>\n",
       "      <td>0</td>\n",
       "    </tr>\n",
       "  </tbody>\n",
       "</table>\n",
       "</div>"
      ],
      "text/plain": [
       "   Car_Escape  Car_Fseries  Car_Missing\n",
       "0  0           0            0          \n",
       "1  1           0            0          \n",
       "2  0           1            0          \n",
       "3  0           0            1          \n",
       "4  1           0            0          "
      ]
     },
     "execution_count": 68,
     "metadata": {},
     "output_type": "execute_result"
    }
   ],
   "source": [
    "gd=pd.get_dummies(data2[\"Cartype\"],prefix='Car',drop_first=True)\n",
    "gd.head()"
   ]
  },
  {
   "cell_type": "code",
   "execution_count": 69,
   "metadata": {
    "scrolled": true
   },
   "outputs": [
    {
     "data": {
      "text/html": [
       "<div>\n",
       "<style scoped>\n",
       "    .dataframe tbody tr th:only-of-type {\n",
       "        vertical-align: middle;\n",
       "    }\n",
       "\n",
       "    .dataframe tbody tr th {\n",
       "        vertical-align: top;\n",
       "    }\n",
       "\n",
       "    .dataframe thead th {\n",
       "        text-align: right;\n",
       "    }\n",
       "</style>\n",
       "<table border=\"1\" class=\"dataframe\">\n",
       "  <thead>\n",
       "    <tr style=\"text-align: right;\">\n",
       "      <th></th>\n",
       "      <th>Car_Edge</th>\n",
       "      <th>Car_Escape</th>\n",
       "      <th>Car_Fseries</th>\n",
       "      <th>Car_Missing</th>\n",
       "      <th>Car_nan</th>\n",
       "    </tr>\n",
       "  </thead>\n",
       "  <tbody>\n",
       "    <tr>\n",
       "      <td>0</td>\n",
       "      <td>1</td>\n",
       "      <td>0</td>\n",
       "      <td>0</td>\n",
       "      <td>0</td>\n",
       "      <td>0</td>\n",
       "    </tr>\n",
       "    <tr>\n",
       "      <td>1</td>\n",
       "      <td>0</td>\n",
       "      <td>1</td>\n",
       "      <td>0</td>\n",
       "      <td>0</td>\n",
       "      <td>0</td>\n",
       "    </tr>\n",
       "    <tr>\n",
       "      <td>2</td>\n",
       "      <td>0</td>\n",
       "      <td>0</td>\n",
       "      <td>1</td>\n",
       "      <td>0</td>\n",
       "      <td>0</td>\n",
       "    </tr>\n",
       "    <tr>\n",
       "      <td>3</td>\n",
       "      <td>0</td>\n",
       "      <td>0</td>\n",
       "      <td>0</td>\n",
       "      <td>1</td>\n",
       "      <td>0</td>\n",
       "    </tr>\n",
       "    <tr>\n",
       "      <td>4</td>\n",
       "      <td>0</td>\n",
       "      <td>1</td>\n",
       "      <td>0</td>\n",
       "      <td>0</td>\n",
       "      <td>0</td>\n",
       "    </tr>\n",
       "  </tbody>\n",
       "</table>\n",
       "</div>"
      ],
      "text/plain": [
       "   Car_Edge  Car_Escape  Car_Fseries  Car_Missing  Car_nan\n",
       "0  1         0           0            0            0      \n",
       "1  0         1           0            0            0      \n",
       "2  0         0           1            0            0      \n",
       "3  0         0           0            1            0      \n",
       "4  0         1           0            0            0      "
      ]
     },
     "execution_count": 69,
     "metadata": {},
     "output_type": "execute_result"
    }
   ],
   "source": [
    "gd=pd.get_dummies(data2[\"Cartype\"],prefix='Car',dummy_na=True)\n",
    "gd.head()\n",
    "\n",
    "# pd.get_dummies(df['Income'], dummy_na=True)"
   ]
  },
  {
   "cell_type": "markdown",
   "metadata": {},
   "source": [
    "#### 4.2 One hot encoder"
   ]
  },
  {
   "cell_type": "code",
   "execution_count": 70,
   "metadata": {},
   "outputs": [],
   "source": [
    "from sklearn.preprocessing import OneHotEncoder, LabelEncoder\n",
    "\n",
    "Enc_ohe, Enc_label = OneHotEncoder(), LabelEncoder()\n",
    "data2[\"Dummies\"] = Enc_label.fit_transform(data2[\"Cartype\"])\n",
    "DF_dummies2 = pd.DataFrame(Enc_ohe.fit_transform(data2[[\"Dummies\"]]).todense(), columns = Enc_label.classes_)\n",
    "   "
   ]
  },
  {
   "cell_type": "code",
   "execution_count": 71,
   "metadata": {},
   "outputs": [
    {
     "data": {
      "text/html": [
       "<div>\n",
       "<style scoped>\n",
       "    .dataframe tbody tr th:only-of-type {\n",
       "        vertical-align: middle;\n",
       "    }\n",
       "\n",
       "    .dataframe tbody tr th {\n",
       "        vertical-align: top;\n",
       "    }\n",
       "\n",
       "    .dataframe thead th {\n",
       "        text-align: right;\n",
       "    }\n",
       "</style>\n",
       "<table border=\"1\" class=\"dataframe\">\n",
       "  <thead>\n",
       "    <tr style=\"text-align: right;\">\n",
       "      <th></th>\n",
       "      <th>customerid</th>\n",
       "      <th>Age</th>\n",
       "      <th>Cartype</th>\n",
       "      <th>Income</th>\n",
       "      <th>Amount</th>\n",
       "      <th>Dummies</th>\n",
       "      <th>Edge</th>\n",
       "      <th>Escape</th>\n",
       "      <th>Fseries</th>\n",
       "      <th>Missing</th>\n",
       "    </tr>\n",
       "  </thead>\n",
       "  <tbody>\n",
       "    <tr>\n",
       "      <td>0</td>\n",
       "      <td>A12345</td>\n",
       "      <td>66</td>\n",
       "      <td>Edge</td>\n",
       "      <td>2500.0</td>\n",
       "      <td>10000</td>\n",
       "      <td>0</td>\n",
       "      <td>1.0</td>\n",
       "      <td>0.0</td>\n",
       "      <td>0.0</td>\n",
       "      <td>0.0</td>\n",
       "    </tr>\n",
       "    <tr>\n",
       "      <td>1</td>\n",
       "      <td>A123090</td>\n",
       "      <td>59</td>\n",
       "      <td>Escape</td>\n",
       "      <td>2721.0</td>\n",
       "      <td>4704</td>\n",
       "      <td>1</td>\n",
       "      <td>0.0</td>\n",
       "      <td>1.0</td>\n",
       "      <td>0.0</td>\n",
       "      <td>0.0</td>\n",
       "    </tr>\n",
       "    <tr>\n",
       "      <td>2</td>\n",
       "      <td>A233835</td>\n",
       "      <td>23</td>\n",
       "      <td>Fseries</td>\n",
       "      <td>3518.0</td>\n",
       "      <td>3765</td>\n",
       "      <td>2</td>\n",
       "      <td>0.0</td>\n",
       "      <td>0.0</td>\n",
       "      <td>1.0</td>\n",
       "      <td>0.0</td>\n",
       "    </tr>\n",
       "    <tr>\n",
       "      <td>3</td>\n",
       "      <td>A344580</td>\n",
       "      <td>45</td>\n",
       "      <td>Missing</td>\n",
       "      <td>2295.0</td>\n",
       "      <td>3923</td>\n",
       "      <td>3</td>\n",
       "      <td>0.0</td>\n",
       "      <td>0.0</td>\n",
       "      <td>0.0</td>\n",
       "      <td>1.0</td>\n",
       "    </tr>\n",
       "    <tr>\n",
       "      <td>4</td>\n",
       "      <td>A455325</td>\n",
       "      <td>49</td>\n",
       "      <td>Escape</td>\n",
       "      <td>1360.0</td>\n",
       "      <td>4897</td>\n",
       "      <td>1</td>\n",
       "      <td>0.0</td>\n",
       "      <td>1.0</td>\n",
       "      <td>0.0</td>\n",
       "      <td>0.0</td>\n",
       "    </tr>\n",
       "  </tbody>\n",
       "</table>\n",
       "</div>"
      ],
      "text/plain": [
       "  customerid  Age  Cartype  Income  Amount  Dummies  Edge  Escape  Fseries  \\\n",
       "0  A12345     66   Edge     2500.0  10000   0        1.0   0.0     0.0       \n",
       "1  A123090    59   Escape   2721.0  4704    1        0.0   1.0     0.0       \n",
       "2  A233835    23   Fseries  3518.0  3765    2        0.0   0.0     1.0       \n",
       "3  A344580    45   Missing  2295.0  3923    3        0.0   0.0     0.0       \n",
       "4  A455325    49   Escape   1360.0  4897    1        0.0   1.0     0.0       \n",
       "\n",
       "   Missing  \n",
       "0  0.0      \n",
       "1  0.0      \n",
       "2  0.0      \n",
       "3  1.0      \n",
       "4  0.0      "
      ]
     },
     "execution_count": 71,
     "metadata": {},
     "output_type": "execute_result"
    }
   ],
   "source": [
    "df = pd.concat([data2, DF_dummies2], axis=1)\n",
    "df.head()"
   ]
  },
  {
   "cell_type": "markdown",
   "metadata": {},
   "source": [
    "#### Key Differences\n",
    "\n",
    "1.Output difference\n",
    "pd.get_dummies results to a Pandas DataFrame whereas OneHotEncoder results a SciPy CSR matrix.\n",
    "\n",
    "2.Time complexity\n",
    "pd.get_dummies is much faster than the OneHotEncoder\n",
    "\n",
    "3.OneHotEncoder cannot process string values directly. If your nominal features are strings, then you need to first map them into integers.\n",
    "\n",
    "pandas.get_dummies is kind of the opposite. By default, it only converts string columns into one-hot representation, unless columns are specified.\n"
   ]
  },
  {
   "cell_type": "markdown",
   "metadata": {},
   "source": [
    "### 5. Variable Transformation"
   ]
  },
  {
   "cell_type": "markdown",
   "metadata": {},
   "source": [
    "#### 5.1 Any mathematical transformations"
   ]
  },
  {
   "cell_type": "code",
   "execution_count": 72,
   "metadata": {
    "scrolled": true
   },
   "outputs": [
    {
     "data": {
      "text/html": [
       "<div>\n",
       "<style scoped>\n",
       "    .dataframe tbody tr th:only-of-type {\n",
       "        vertical-align: middle;\n",
       "    }\n",
       "\n",
       "    .dataframe tbody tr th {\n",
       "        vertical-align: top;\n",
       "    }\n",
       "\n",
       "    .dataframe thead th {\n",
       "        text-align: right;\n",
       "    }\n",
       "</style>\n",
       "<table border=\"1\" class=\"dataframe\">\n",
       "  <thead>\n",
       "    <tr style=\"text-align: right;\">\n",
       "      <th></th>\n",
       "      <th>customerid</th>\n",
       "      <th>Age</th>\n",
       "      <th>Cartype</th>\n",
       "      <th>Income</th>\n",
       "      <th>Amount</th>\n",
       "      <th>Dummies</th>\n",
       "      <th>sq_income</th>\n",
       "    </tr>\n",
       "  </thead>\n",
       "  <tbody>\n",
       "    <tr>\n",
       "      <td>0</td>\n",
       "      <td>A12345</td>\n",
       "      <td>66</td>\n",
       "      <td>Edge</td>\n",
       "      <td>2500.0</td>\n",
       "      <td>10000</td>\n",
       "      <td>0</td>\n",
       "      <td>50.000000</td>\n",
       "    </tr>\n",
       "    <tr>\n",
       "      <td>1</td>\n",
       "      <td>A123090</td>\n",
       "      <td>59</td>\n",
       "      <td>Escape</td>\n",
       "      <td>2721.0</td>\n",
       "      <td>4704</td>\n",
       "      <td>1</td>\n",
       "      <td>52.163205</td>\n",
       "    </tr>\n",
       "    <tr>\n",
       "      <td>2</td>\n",
       "      <td>A233835</td>\n",
       "      <td>23</td>\n",
       "      <td>Fseries</td>\n",
       "      <td>3518.0</td>\n",
       "      <td>3765</td>\n",
       "      <td>2</td>\n",
       "      <td>59.312731</td>\n",
       "    </tr>\n",
       "    <tr>\n",
       "      <td>3</td>\n",
       "      <td>A344580</td>\n",
       "      <td>45</td>\n",
       "      <td>Missing</td>\n",
       "      <td>2295.0</td>\n",
       "      <td>3923</td>\n",
       "      <td>3</td>\n",
       "      <td>47.906158</td>\n",
       "    </tr>\n",
       "    <tr>\n",
       "      <td>4</td>\n",
       "      <td>A455325</td>\n",
       "      <td>49</td>\n",
       "      <td>Escape</td>\n",
       "      <td>1360.0</td>\n",
       "      <td>4897</td>\n",
       "      <td>1</td>\n",
       "      <td>36.878178</td>\n",
       "    </tr>\n",
       "  </tbody>\n",
       "</table>\n",
       "</div>"
      ],
      "text/plain": [
       "  customerid  Age  Cartype  Income  Amount  Dummies  sq_income\n",
       "0  A12345     66   Edge     2500.0  10000   0        50.000000\n",
       "1  A123090    59   Escape   2721.0  4704    1        52.163205\n",
       "2  A233835    23   Fseries  3518.0  3765    2        59.312731\n",
       "3  A344580    45   Missing  2295.0  3923    3        47.906158\n",
       "4  A455325    49   Escape   1360.0  4897    1        36.878178"
      ]
     },
     "execution_count": 72,
     "metadata": {},
     "output_type": "execute_result"
    }
   ],
   "source": [
    "data2['sq_income']=np.sqrt(data2[['Income']].sum(axis=1))\n",
    "data2.head()"
   ]
  },
  {
   "cell_type": "code",
   "execution_count": 73,
   "metadata": {
    "scrolled": true
   },
   "outputs": [
    {
     "data": {
      "text/html": [
       "<div>\n",
       "<style scoped>\n",
       "    .dataframe tbody tr th:only-of-type {\n",
       "        vertical-align: middle;\n",
       "    }\n",
       "\n",
       "    .dataframe tbody tr th {\n",
       "        vertical-align: top;\n",
       "    }\n",
       "\n",
       "    .dataframe thead th {\n",
       "        text-align: right;\n",
       "    }\n",
       "</style>\n",
       "<table border=\"1\" class=\"dataframe\">\n",
       "  <thead>\n",
       "    <tr style=\"text-align: right;\">\n",
       "      <th></th>\n",
       "      <th>customerid</th>\n",
       "      <th>Age</th>\n",
       "      <th>Cartype</th>\n",
       "      <th>Income</th>\n",
       "      <th>Amount</th>\n",
       "      <th>Dummies</th>\n",
       "      <th>sq_income</th>\n",
       "      <th>cb_income</th>\n",
       "    </tr>\n",
       "  </thead>\n",
       "  <tbody>\n",
       "    <tr>\n",
       "      <td>0</td>\n",
       "      <td>A12345</td>\n",
       "      <td>66</td>\n",
       "      <td>Edge</td>\n",
       "      <td>2500.0</td>\n",
       "      <td>10000</td>\n",
       "      <td>0</td>\n",
       "      <td>50.000000</td>\n",
       "      <td>13.572088</td>\n",
       "    </tr>\n",
       "    <tr>\n",
       "      <td>1</td>\n",
       "      <td>A123090</td>\n",
       "      <td>59</td>\n",
       "      <td>Escape</td>\n",
       "      <td>2721.0</td>\n",
       "      <td>4704</td>\n",
       "      <td>1</td>\n",
       "      <td>52.163205</td>\n",
       "      <td>13.960775</td>\n",
       "    </tr>\n",
       "    <tr>\n",
       "      <td>2</td>\n",
       "      <td>A233835</td>\n",
       "      <td>23</td>\n",
       "      <td>Fseries</td>\n",
       "      <td>3518.0</td>\n",
       "      <td>3765</td>\n",
       "      <td>2</td>\n",
       "      <td>59.312731</td>\n",
       "      <td>15.208928</td>\n",
       "    </tr>\n",
       "    <tr>\n",
       "      <td>3</td>\n",
       "      <td>A344580</td>\n",
       "      <td>45</td>\n",
       "      <td>Missing</td>\n",
       "      <td>2295.0</td>\n",
       "      <td>3923</td>\n",
       "      <td>3</td>\n",
       "      <td>47.906158</td>\n",
       "      <td>13.190489</td>\n",
       "    </tr>\n",
       "    <tr>\n",
       "      <td>4</td>\n",
       "      <td>A455325</td>\n",
       "      <td>49</td>\n",
       "      <td>Escape</td>\n",
       "      <td>1360.0</td>\n",
       "      <td>4897</td>\n",
       "      <td>1</td>\n",
       "      <td>36.878178</td>\n",
       "      <td>11.079317</td>\n",
       "    </tr>\n",
       "  </tbody>\n",
       "</table>\n",
       "</div>"
      ],
      "text/plain": [
       "  customerid  Age  Cartype  Income  Amount  Dummies  sq_income  cb_income\n",
       "0  A12345     66   Edge     2500.0  10000   0        50.000000  13.572088\n",
       "1  A123090    59   Escape   2721.0  4704    1        52.163205  13.960775\n",
       "2  A233835    23   Fseries  3518.0  3765    2        59.312731  15.208928\n",
       "3  A344580    45   Missing  2295.0  3923    3        47.906158  13.190489\n",
       "4  A455325    49   Escape   1360.0  4897    1        36.878178  11.079317"
      ]
     },
     "execution_count": 73,
     "metadata": {},
     "output_type": "execute_result"
    }
   ],
   "source": [
    "data2['cb_income']=np.cbrt(data2[['Income']].sum(axis=1))\n",
    "data2.head()"
   ]
  },
  {
   "cell_type": "code",
   "execution_count": 74,
   "metadata": {
    "scrolled": true
   },
   "outputs": [
    {
     "data": {
      "text/html": [
       "<div>\n",
       "<style scoped>\n",
       "    .dataframe tbody tr th:only-of-type {\n",
       "        vertical-align: middle;\n",
       "    }\n",
       "\n",
       "    .dataframe tbody tr th {\n",
       "        vertical-align: top;\n",
       "    }\n",
       "\n",
       "    .dataframe thead th {\n",
       "        text-align: right;\n",
       "    }\n",
       "</style>\n",
       "<table border=\"1\" class=\"dataframe\">\n",
       "  <thead>\n",
       "    <tr style=\"text-align: right;\">\n",
       "      <th></th>\n",
       "      <th>customerid</th>\n",
       "      <th>Age</th>\n",
       "      <th>Cartype</th>\n",
       "      <th>Income</th>\n",
       "      <th>Amount</th>\n",
       "      <th>Dummies</th>\n",
       "      <th>sq_income</th>\n",
       "      <th>cb_income</th>\n",
       "      <th>log_income</th>\n",
       "    </tr>\n",
       "  </thead>\n",
       "  <tbody>\n",
       "    <tr>\n",
       "      <td>0</td>\n",
       "      <td>A12345</td>\n",
       "      <td>66</td>\n",
       "      <td>Edge</td>\n",
       "      <td>2500.0</td>\n",
       "      <td>10000</td>\n",
       "      <td>0</td>\n",
       "      <td>50.000000</td>\n",
       "      <td>13.572088</td>\n",
       "      <td>7.824046</td>\n",
       "    </tr>\n",
       "    <tr>\n",
       "      <td>1</td>\n",
       "      <td>A123090</td>\n",
       "      <td>59</td>\n",
       "      <td>Escape</td>\n",
       "      <td>2721.0</td>\n",
       "      <td>4704</td>\n",
       "      <td>1</td>\n",
       "      <td>52.163205</td>\n",
       "      <td>13.960775</td>\n",
       "      <td>7.908755</td>\n",
       "    </tr>\n",
       "    <tr>\n",
       "      <td>2</td>\n",
       "      <td>A233835</td>\n",
       "      <td>23</td>\n",
       "      <td>Fseries</td>\n",
       "      <td>3518.0</td>\n",
       "      <td>3765</td>\n",
       "      <td>2</td>\n",
       "      <td>59.312731</td>\n",
       "      <td>15.208928</td>\n",
       "      <td>8.165648</td>\n",
       "    </tr>\n",
       "    <tr>\n",
       "      <td>3</td>\n",
       "      <td>A344580</td>\n",
       "      <td>45</td>\n",
       "      <td>Missing</td>\n",
       "      <td>2295.0</td>\n",
       "      <td>3923</td>\n",
       "      <td>3</td>\n",
       "      <td>47.906158</td>\n",
       "      <td>13.190489</td>\n",
       "      <td>7.738488</td>\n",
       "    </tr>\n",
       "    <tr>\n",
       "      <td>4</td>\n",
       "      <td>A455325</td>\n",
       "      <td>49</td>\n",
       "      <td>Escape</td>\n",
       "      <td>1360.0</td>\n",
       "      <td>4897</td>\n",
       "      <td>1</td>\n",
       "      <td>36.878178</td>\n",
       "      <td>11.079317</td>\n",
       "      <td>7.215240</td>\n",
       "    </tr>\n",
       "  </tbody>\n",
       "</table>\n",
       "</div>"
      ],
      "text/plain": [
       "  customerid  Age  Cartype  Income  Amount  Dummies  sq_income  cb_income  \\\n",
       "0  A12345     66   Edge     2500.0  10000   0        50.000000  13.572088   \n",
       "1  A123090    59   Escape   2721.0  4704    1        52.163205  13.960775   \n",
       "2  A233835    23   Fseries  3518.0  3765    2        59.312731  15.208928   \n",
       "3  A344580    45   Missing  2295.0  3923    3        47.906158  13.190489   \n",
       "4  A455325    49   Escape   1360.0  4897    1        36.878178  11.079317   \n",
       "\n",
       "   log_income  \n",
       "0  7.824046    \n",
       "1  7.908755    \n",
       "2  8.165648    \n",
       "3  7.738488    \n",
       "4  7.215240    "
      ]
     },
     "execution_count": 74,
     "metadata": {},
     "output_type": "execute_result"
    }
   ],
   "source": [
    "data2['log_income']=np.log(data2[['Income']].sum(axis=1))\n",
    "data2.head()"
   ]
  },
  {
   "cell_type": "markdown",
   "metadata": {},
   "source": [
    "#### 5.2 Label Encoding"
   ]
  },
  {
   "cell_type": "code",
   "execution_count": 75,
   "metadata": {},
   "outputs": [],
   "source": [
    "from sklearn.preprocessing import LabelEncoder"
   ]
  },
  {
   "cell_type": "code",
   "execution_count": 76,
   "metadata": {},
   "outputs": [],
   "source": [
    "le = LabelEncoder()"
   ]
  },
  {
   "cell_type": "code",
   "execution_count": 77,
   "metadata": {},
   "outputs": [
    {
     "data": {
      "text/plain": [
       "LabelEncoder()"
      ]
     },
     "execution_count": 77,
     "metadata": {},
     "output_type": "execute_result"
    }
   ],
   "source": [
    "le.fit(data2['Cartype'])"
   ]
  },
  {
   "cell_type": "code",
   "execution_count": 78,
   "metadata": {},
   "outputs": [],
   "source": [
    "data2['Cartype1'] = le.transform(data2['Cartype'])"
   ]
  },
  {
   "cell_type": "code",
   "execution_count": 79,
   "metadata": {},
   "outputs": [
    {
     "data": {
      "text/html": [
       "<div>\n",
       "<style scoped>\n",
       "    .dataframe tbody tr th:only-of-type {\n",
       "        vertical-align: middle;\n",
       "    }\n",
       "\n",
       "    .dataframe tbody tr th {\n",
       "        vertical-align: top;\n",
       "    }\n",
       "\n",
       "    .dataframe thead th {\n",
       "        text-align: right;\n",
       "    }\n",
       "</style>\n",
       "<table border=\"1\" class=\"dataframe\">\n",
       "  <thead>\n",
       "    <tr style=\"text-align: right;\">\n",
       "      <th></th>\n",
       "      <th>customerid</th>\n",
       "      <th>Age</th>\n",
       "      <th>Cartype</th>\n",
       "      <th>Income</th>\n",
       "      <th>Amount</th>\n",
       "      <th>Dummies</th>\n",
       "      <th>sq_income</th>\n",
       "      <th>cb_income</th>\n",
       "      <th>log_income</th>\n",
       "      <th>Cartype1</th>\n",
       "    </tr>\n",
       "  </thead>\n",
       "  <tbody>\n",
       "    <tr>\n",
       "      <td>0</td>\n",
       "      <td>A12345</td>\n",
       "      <td>66</td>\n",
       "      <td>Edge</td>\n",
       "      <td>2500.0</td>\n",
       "      <td>10000</td>\n",
       "      <td>0</td>\n",
       "      <td>50.000000</td>\n",
       "      <td>13.572088</td>\n",
       "      <td>7.824046</td>\n",
       "      <td>0</td>\n",
       "    </tr>\n",
       "    <tr>\n",
       "      <td>1</td>\n",
       "      <td>A123090</td>\n",
       "      <td>59</td>\n",
       "      <td>Escape</td>\n",
       "      <td>2721.0</td>\n",
       "      <td>4704</td>\n",
       "      <td>1</td>\n",
       "      <td>52.163205</td>\n",
       "      <td>13.960775</td>\n",
       "      <td>7.908755</td>\n",
       "      <td>1</td>\n",
       "    </tr>\n",
       "    <tr>\n",
       "      <td>2</td>\n",
       "      <td>A233835</td>\n",
       "      <td>23</td>\n",
       "      <td>Fseries</td>\n",
       "      <td>3518.0</td>\n",
       "      <td>3765</td>\n",
       "      <td>2</td>\n",
       "      <td>59.312731</td>\n",
       "      <td>15.208928</td>\n",
       "      <td>8.165648</td>\n",
       "      <td>2</td>\n",
       "    </tr>\n",
       "    <tr>\n",
       "      <td>3</td>\n",
       "      <td>A344580</td>\n",
       "      <td>45</td>\n",
       "      <td>Missing</td>\n",
       "      <td>2295.0</td>\n",
       "      <td>3923</td>\n",
       "      <td>3</td>\n",
       "      <td>47.906158</td>\n",
       "      <td>13.190489</td>\n",
       "      <td>7.738488</td>\n",
       "      <td>3</td>\n",
       "    </tr>\n",
       "    <tr>\n",
       "      <td>4</td>\n",
       "      <td>A455325</td>\n",
       "      <td>49</td>\n",
       "      <td>Escape</td>\n",
       "      <td>1360.0</td>\n",
       "      <td>4897</td>\n",
       "      <td>1</td>\n",
       "      <td>36.878178</td>\n",
       "      <td>11.079317</td>\n",
       "      <td>7.215240</td>\n",
       "      <td>1</td>\n",
       "    </tr>\n",
       "  </tbody>\n",
       "</table>\n",
       "</div>"
      ],
      "text/plain": [
       "  customerid  Age  Cartype  Income  Amount  Dummies  sq_income  cb_income  \\\n",
       "0  A12345     66   Edge     2500.0  10000   0        50.000000  13.572088   \n",
       "1  A123090    59   Escape   2721.0  4704    1        52.163205  13.960775   \n",
       "2  A233835    23   Fseries  3518.0  3765    2        59.312731  15.208928   \n",
       "3  A344580    45   Missing  2295.0  3923    3        47.906158  13.190489   \n",
       "4  A455325    49   Escape   1360.0  4897    1        36.878178  11.079317   \n",
       "\n",
       "   log_income  Cartype1  \n",
       "0  7.824046    0         \n",
       "1  7.908755    1         \n",
       "2  8.165648    2         \n",
       "3  7.738488    3         \n",
       "4  7.215240    1         "
      ]
     },
     "execution_count": 79,
     "metadata": {},
     "output_type": "execute_result"
    }
   ],
   "source": [
    "data2.head()"
   ]
  },
  {
   "cell_type": "markdown",
   "metadata": {},
   "source": [
    "#### 5.2 MinMAX SCALER"
   ]
  },
  {
   "cell_type": "code",
   "execution_count": 80,
   "metadata": {},
   "outputs": [],
   "source": [
    "from sklearn.preprocessing import MinMaxScaler,StandardScaler,RobustScaler"
   ]
  },
  {
   "cell_type": "code",
   "execution_count": 81,
   "metadata": {},
   "outputs": [
    {
     "data": {
      "text/html": [
       "<div>\n",
       "<style scoped>\n",
       "    .dataframe tbody tr th:only-of-type {\n",
       "        vertical-align: middle;\n",
       "    }\n",
       "\n",
       "    .dataframe tbody tr th {\n",
       "        vertical-align: top;\n",
       "    }\n",
       "\n",
       "    .dataframe thead th {\n",
       "        text-align: right;\n",
       "    }\n",
       "</style>\n",
       "<table border=\"1\" class=\"dataframe\">\n",
       "  <thead>\n",
       "    <tr style=\"text-align: right;\">\n",
       "      <th></th>\n",
       "      <th>customerid</th>\n",
       "      <th>Age</th>\n",
       "      <th>Cartype</th>\n",
       "      <th>Income</th>\n",
       "      <th>Amount</th>\n",
       "      <th>Dummies</th>\n",
       "      <th>sq_income</th>\n",
       "      <th>cb_income</th>\n",
       "      <th>log_income</th>\n",
       "      <th>Cartype1</th>\n",
       "    </tr>\n",
       "  </thead>\n",
       "  <tbody>\n",
       "    <tr>\n",
       "      <td>0</td>\n",
       "      <td>A12345</td>\n",
       "      <td>66</td>\n",
       "      <td>Edge</td>\n",
       "      <td>2500.0</td>\n",
       "      <td>10000</td>\n",
       "      <td>0</td>\n",
       "      <td>50.000000</td>\n",
       "      <td>13.572088</td>\n",
       "      <td>7.824046</td>\n",
       "      <td>0</td>\n",
       "    </tr>\n",
       "    <tr>\n",
       "      <td>1</td>\n",
       "      <td>A123090</td>\n",
       "      <td>59</td>\n",
       "      <td>Escape</td>\n",
       "      <td>2721.0</td>\n",
       "      <td>4704</td>\n",
       "      <td>1</td>\n",
       "      <td>52.163205</td>\n",
       "      <td>13.960775</td>\n",
       "      <td>7.908755</td>\n",
       "      <td>1</td>\n",
       "    </tr>\n",
       "    <tr>\n",
       "      <td>2</td>\n",
       "      <td>A233835</td>\n",
       "      <td>23</td>\n",
       "      <td>Fseries</td>\n",
       "      <td>3518.0</td>\n",
       "      <td>3765</td>\n",
       "      <td>2</td>\n",
       "      <td>59.312731</td>\n",
       "      <td>15.208928</td>\n",
       "      <td>8.165648</td>\n",
       "      <td>2</td>\n",
       "    </tr>\n",
       "    <tr>\n",
       "      <td>3</td>\n",
       "      <td>A344580</td>\n",
       "      <td>45</td>\n",
       "      <td>Missing</td>\n",
       "      <td>2295.0</td>\n",
       "      <td>3923</td>\n",
       "      <td>3</td>\n",
       "      <td>47.906158</td>\n",
       "      <td>13.190489</td>\n",
       "      <td>7.738488</td>\n",
       "      <td>3</td>\n",
       "    </tr>\n",
       "    <tr>\n",
       "      <td>4</td>\n",
       "      <td>A455325</td>\n",
       "      <td>49</td>\n",
       "      <td>Escape</td>\n",
       "      <td>1360.0</td>\n",
       "      <td>4897</td>\n",
       "      <td>1</td>\n",
       "      <td>36.878178</td>\n",
       "      <td>11.079317</td>\n",
       "      <td>7.215240</td>\n",
       "      <td>1</td>\n",
       "    </tr>\n",
       "  </tbody>\n",
       "</table>\n",
       "</div>"
      ],
      "text/plain": [
       "  customerid  Age  Cartype  Income  Amount  Dummies  sq_income  cb_income  \\\n",
       "0  A12345     66   Edge     2500.0  10000   0        50.000000  13.572088   \n",
       "1  A123090    59   Escape   2721.0  4704    1        52.163205  13.960775   \n",
       "2  A233835    23   Fseries  3518.0  3765    2        59.312731  15.208928   \n",
       "3  A344580    45   Missing  2295.0  3923    3        47.906158  13.190489   \n",
       "4  A455325    49   Escape   1360.0  4897    1        36.878178  11.079317   \n",
       "\n",
       "   log_income  Cartype1  \n",
       "0  7.824046    0         \n",
       "1  7.908755    1         \n",
       "2  8.165648    2         \n",
       "3  7.738488    3         \n",
       "4  7.215240    1         "
      ]
     },
     "execution_count": 81,
     "metadata": {},
     "output_type": "execute_result"
    }
   ],
   "source": [
    "data2.head()"
   ]
  },
  {
   "cell_type": "code",
   "execution_count": 82,
   "metadata": {},
   "outputs": [],
   "source": [
    "col_names = [ 'Age', 'Income']\n",
    "features = data2[col_names]"
   ]
  },
  {
   "cell_type": "code",
   "execution_count": 83,
   "metadata": {},
   "outputs": [],
   "source": [
    "minmax_features =data2.copy()"
   ]
  },
  {
   "cell_type": "code",
   "execution_count": 84,
   "metadata": {
    "scrolled": true
   },
   "outputs": [],
   "source": [
    "minscaler = MinMaxScaler()\n",
    "trann_mi = minscaler.fit_transform(features)"
   ]
  },
  {
   "cell_type": "code",
   "execution_count": 85,
   "metadata": {},
   "outputs": [
    {
     "data": {
      "text/html": [
       "<div>\n",
       "<style scoped>\n",
       "    .dataframe tbody tr th:only-of-type {\n",
       "        vertical-align: middle;\n",
       "    }\n",
       "\n",
       "    .dataframe tbody tr th {\n",
       "        vertical-align: top;\n",
       "    }\n",
       "\n",
       "    .dataframe thead th {\n",
       "        text-align: right;\n",
       "    }\n",
       "</style>\n",
       "<table border=\"1\" class=\"dataframe\">\n",
       "  <thead>\n",
       "    <tr style=\"text-align: right;\">\n",
       "      <th></th>\n",
       "      <th>customerid</th>\n",
       "      <th>Age</th>\n",
       "      <th>Cartype</th>\n",
       "      <th>Income</th>\n",
       "      <th>Amount</th>\n",
       "      <th>Dummies</th>\n",
       "      <th>sq_income</th>\n",
       "      <th>cb_income</th>\n",
       "      <th>log_income</th>\n",
       "      <th>Cartype1</th>\n",
       "    </tr>\n",
       "  </thead>\n",
       "  <tbody>\n",
       "    <tr>\n",
       "      <td>0</td>\n",
       "      <td>A12345</td>\n",
       "      <td>0.92</td>\n",
       "      <td>Edge</td>\n",
       "      <td>0.402220</td>\n",
       "      <td>10000</td>\n",
       "      <td>0</td>\n",
       "      <td>50.000000</td>\n",
       "      <td>13.572088</td>\n",
       "      <td>7.824046</td>\n",
       "      <td>0</td>\n",
       "    </tr>\n",
       "    <tr>\n",
       "      <td>1</td>\n",
       "      <td>A123090</td>\n",
       "      <td>0.78</td>\n",
       "      <td>Escape</td>\n",
       "      <td>0.468506</td>\n",
       "      <td>4704</td>\n",
       "      <td>1</td>\n",
       "      <td>52.163205</td>\n",
       "      <td>13.960775</td>\n",
       "      <td>7.908755</td>\n",
       "      <td>1</td>\n",
       "    </tr>\n",
       "    <tr>\n",
       "      <td>2</td>\n",
       "      <td>A233835</td>\n",
       "      <td>0.06</td>\n",
       "      <td>Fseries</td>\n",
       "      <td>0.707558</td>\n",
       "      <td>3765</td>\n",
       "      <td>2</td>\n",
       "      <td>59.312731</td>\n",
       "      <td>15.208928</td>\n",
       "      <td>8.165648</td>\n",
       "      <td>2</td>\n",
       "    </tr>\n",
       "    <tr>\n",
       "      <td>3</td>\n",
       "      <td>A344580</td>\n",
       "      <td>0.50</td>\n",
       "      <td>Missing</td>\n",
       "      <td>0.340732</td>\n",
       "      <td>3923</td>\n",
       "      <td>3</td>\n",
       "      <td>47.906158</td>\n",
       "      <td>13.190489</td>\n",
       "      <td>7.738488</td>\n",
       "      <td>3</td>\n",
       "    </tr>\n",
       "    <tr>\n",
       "      <td>4</td>\n",
       "      <td>A455325</td>\n",
       "      <td>0.58</td>\n",
       "      <td>Escape</td>\n",
       "      <td>0.060288</td>\n",
       "      <td>4897</td>\n",
       "      <td>1</td>\n",
       "      <td>36.878178</td>\n",
       "      <td>11.079317</td>\n",
       "      <td>7.215240</td>\n",
       "      <td>1</td>\n",
       "    </tr>\n",
       "  </tbody>\n",
       "</table>\n",
       "</div>"
      ],
      "text/plain": [
       "  customerid   Age  Cartype    Income  Amount  Dummies  sq_income  cb_income  \\\n",
       "0  A12345     0.92  Edge     0.402220  10000   0        50.000000  13.572088   \n",
       "1  A123090    0.78  Escape   0.468506  4704    1        52.163205  13.960775   \n",
       "2  A233835    0.06  Fseries  0.707558  3765    2        59.312731  15.208928   \n",
       "3  A344580    0.50  Missing  0.340732  3923    3        47.906158  13.190489   \n",
       "4  A455325    0.58  Escape   0.060288  4897    1        36.878178  11.079317   \n",
       "\n",
       "   log_income  Cartype1  \n",
       "0  7.824046    0         \n",
       "1  7.908755    1         \n",
       "2  8.165648    2         \n",
       "3  7.738488    3         \n",
       "4  7.215240    1         "
      ]
     },
     "execution_count": 85,
     "metadata": {},
     "output_type": "execute_result"
    }
   ],
   "source": [
    "minmax_features[col_names] = trann_mi\n",
    "minmax_features.head()"
   ]
  },
  {
   "cell_type": "markdown",
   "metadata": {},
   "source": [
    "#### 5.3 Standardised Variables \n"
   ]
  },
  {
   "cell_type": "code",
   "execution_count": 86,
   "metadata": {},
   "outputs": [],
   "source": [
    "col_names = [ 'Age', 'Income']\n",
    "features = data2[col_names]"
   ]
  },
  {
   "cell_type": "code",
   "execution_count": 87,
   "metadata": {},
   "outputs": [],
   "source": [
    "scaled_features =data2.copy()"
   ]
  },
  {
   "cell_type": "code",
   "execution_count": 88,
   "metadata": {},
   "outputs": [],
   "source": [
    "scaler = StandardScaler().fit(features)\n",
    "features = scaler.transform(features)\n"
   ]
  },
  {
   "cell_type": "code",
   "execution_count": 89,
   "metadata": {},
   "outputs": [
    {
     "data": {
      "text/html": [
       "<div>\n",
       "<style scoped>\n",
       "    .dataframe tbody tr th:only-of-type {\n",
       "        vertical-align: middle;\n",
       "    }\n",
       "\n",
       "    .dataframe tbody tr th {\n",
       "        vertical-align: top;\n",
       "    }\n",
       "\n",
       "    .dataframe thead th {\n",
       "        text-align: right;\n",
       "    }\n",
       "</style>\n",
       "<table border=\"1\" class=\"dataframe\">\n",
       "  <thead>\n",
       "    <tr style=\"text-align: right;\">\n",
       "      <th></th>\n",
       "      <th>customerid</th>\n",
       "      <th>Age</th>\n",
       "      <th>Cartype</th>\n",
       "      <th>Income</th>\n",
       "      <th>Amount</th>\n",
       "      <th>Dummies</th>\n",
       "      <th>sq_income</th>\n",
       "      <th>cb_income</th>\n",
       "      <th>log_income</th>\n",
       "      <th>Cartype1</th>\n",
       "    </tr>\n",
       "  </thead>\n",
       "  <tbody>\n",
       "    <tr>\n",
       "      <td>0</td>\n",
       "      <td>A12345</td>\n",
       "      <td>1.113735</td>\n",
       "      <td>Edge</td>\n",
       "      <td>-0.166247</td>\n",
       "      <td>10000</td>\n",
       "      <td>0</td>\n",
       "      <td>50.000000</td>\n",
       "      <td>13.572088</td>\n",
       "      <td>7.824046</td>\n",
       "      <td>0</td>\n",
       "    </tr>\n",
       "    <tr>\n",
       "      <td>1</td>\n",
       "      <td>A123090</td>\n",
       "      <td>0.637634</td>\n",
       "      <td>Escape</td>\n",
       "      <td>0.048062</td>\n",
       "      <td>4704</td>\n",
       "      <td>1</td>\n",
       "      <td>52.163205</td>\n",
       "      <td>13.960775</td>\n",
       "      <td>7.908755</td>\n",
       "      <td>1</td>\n",
       "    </tr>\n",
       "    <tr>\n",
       "      <td>2</td>\n",
       "      <td>A233835</td>\n",
       "      <td>-1.810881</td>\n",
       "      <td>Fseries</td>\n",
       "      <td>0.820933</td>\n",
       "      <td>3765</td>\n",
       "      <td>2</td>\n",
       "      <td>59.312731</td>\n",
       "      <td>15.208928</td>\n",
       "      <td>8.165648</td>\n",
       "      <td>2</td>\n",
       "    </tr>\n",
       "    <tr>\n",
       "      <td>3</td>\n",
       "      <td>A344580</td>\n",
       "      <td>-0.314566</td>\n",
       "      <td>Missing</td>\n",
       "      <td>-0.365041</td>\n",
       "      <td>3923</td>\n",
       "      <td>3</td>\n",
       "      <td>47.906158</td>\n",
       "      <td>13.190489</td>\n",
       "      <td>7.738488</td>\n",
       "      <td>3</td>\n",
       "    </tr>\n",
       "    <tr>\n",
       "      <td>4</td>\n",
       "      <td>A455325</td>\n",
       "      <td>-0.042509</td>\n",
       "      <td>Escape</td>\n",
       "      <td>-1.271734</td>\n",
       "      <td>4897</td>\n",
       "      <td>1</td>\n",
       "      <td>36.878178</td>\n",
       "      <td>11.079317</td>\n",
       "      <td>7.215240</td>\n",
       "      <td>1</td>\n",
       "    </tr>\n",
       "  </tbody>\n",
       "</table>\n",
       "</div>"
      ],
      "text/plain": [
       "  customerid       Age  Cartype    Income  Amount  Dummies  sq_income  \\\n",
       "0  A12345     1.113735  Edge    -0.166247  10000   0        50.000000   \n",
       "1  A123090    0.637634  Escape   0.048062  4704    1        52.163205   \n",
       "2  A233835   -1.810881  Fseries  0.820933  3765    2        59.312731   \n",
       "3  A344580   -0.314566  Missing -0.365041  3923    3        47.906158   \n",
       "4  A455325   -0.042509  Escape  -1.271734  4897    1        36.878178   \n",
       "\n",
       "   cb_income  log_income  Cartype1  \n",
       "0  13.572088  7.824046    0         \n",
       "1  13.960775  7.908755    1         \n",
       "2  15.208928  8.165648    2         \n",
       "3  13.190489  7.738488    3         \n",
       "4  11.079317  7.215240    1         "
      ]
     },
     "execution_count": 89,
     "metadata": {},
     "output_type": "execute_result"
    }
   ],
   "source": [
    "scaled_features[col_names] = features\n",
    "scaled_features.head()"
   ]
  },
  {
   "cell_type": "markdown",
   "metadata": {},
   "source": [
    "#### 5.4 Robust Scaler"
   ]
  },
  {
   "cell_type": "code",
   "execution_count": 90,
   "metadata": {},
   "outputs": [],
   "source": [
    "col_names = [ 'Age', 'Income']\n",
    "features = data2[col_names]"
   ]
  },
  {
   "cell_type": "code",
   "execution_count": 91,
   "metadata": {},
   "outputs": [],
   "source": [
    "robust_features =data2.copy()"
   ]
  },
  {
   "cell_type": "code",
   "execution_count": 92,
   "metadata": {},
   "outputs": [],
   "source": [
    "ROscaler = RobustScaler().fit(features)\n",
    "features = ROscaler.transform(features)\n"
   ]
  },
  {
   "cell_type": "code",
   "execution_count": 93,
   "metadata": {},
   "outputs": [
    {
     "data": {
      "text/html": [
       "<div>\n",
       "<style scoped>\n",
       "    .dataframe tbody tr th:only-of-type {\n",
       "        vertical-align: middle;\n",
       "    }\n",
       "\n",
       "    .dataframe tbody tr th {\n",
       "        vertical-align: top;\n",
       "    }\n",
       "\n",
       "    .dataframe thead th {\n",
       "        text-align: right;\n",
       "    }\n",
       "</style>\n",
       "<table border=\"1\" class=\"dataframe\">\n",
       "  <thead>\n",
       "    <tr style=\"text-align: right;\">\n",
       "      <th></th>\n",
       "      <th>customerid</th>\n",
       "      <th>Age</th>\n",
       "      <th>Cartype</th>\n",
       "      <th>Income</th>\n",
       "      <th>Amount</th>\n",
       "      <th>Dummies</th>\n",
       "      <th>sq_income</th>\n",
       "      <th>cb_income</th>\n",
       "      <th>log_income</th>\n",
       "      <th>Cartype1</th>\n",
       "    </tr>\n",
       "  </thead>\n",
       "  <tbody>\n",
       "    <tr>\n",
       "      <td>0</td>\n",
       "      <td>A12345</td>\n",
       "      <td>0.538462</td>\n",
       "      <td>Edge</td>\n",
       "      <td>-0.078566</td>\n",
       "      <td>10000</td>\n",
       "      <td>0</td>\n",
       "      <td>50.000000</td>\n",
       "      <td>13.572088</td>\n",
       "      <td>7.824046</td>\n",
       "      <td>0</td>\n",
       "    </tr>\n",
       "    <tr>\n",
       "      <td>1</td>\n",
       "      <td>A123090</td>\n",
       "      <td>0.269231</td>\n",
       "      <td>Escape</td>\n",
       "      <td>0.048172</td>\n",
       "      <td>4704</td>\n",
       "      <td>1</td>\n",
       "      <td>52.163205</td>\n",
       "      <td>13.960775</td>\n",
       "      <td>7.908755</td>\n",
       "      <td>1</td>\n",
       "    </tr>\n",
       "    <tr>\n",
       "      <td>2</td>\n",
       "      <td>A233835</td>\n",
       "      <td>-1.115385</td>\n",
       "      <td>Fseries</td>\n",
       "      <td>0.505233</td>\n",
       "      <td>3765</td>\n",
       "      <td>2</td>\n",
       "      <td>59.312731</td>\n",
       "      <td>15.208928</td>\n",
       "      <td>8.165648</td>\n",
       "      <td>2</td>\n",
       "    </tr>\n",
       "    <tr>\n",
       "      <td>3</td>\n",
       "      <td>A344580</td>\n",
       "      <td>-0.269231</td>\n",
       "      <td>Missing</td>\n",
       "      <td>-0.196129</td>\n",
       "      <td>3923</td>\n",
       "      <td>3</td>\n",
       "      <td>47.906158</td>\n",
       "      <td>13.190489</td>\n",
       "      <td>7.738488</td>\n",
       "      <td>3</td>\n",
       "    </tr>\n",
       "    <tr>\n",
       "      <td>4</td>\n",
       "      <td>A455325</td>\n",
       "      <td>-0.115385</td>\n",
       "      <td>Escape</td>\n",
       "      <td>-0.732330</td>\n",
       "      <td>4897</td>\n",
       "      <td>1</td>\n",
       "      <td>36.878178</td>\n",
       "      <td>11.079317</td>\n",
       "      <td>7.215240</td>\n",
       "      <td>1</td>\n",
       "    </tr>\n",
       "  </tbody>\n",
       "</table>\n",
       "</div>"
      ],
      "text/plain": [
       "  customerid       Age  Cartype    Income  Amount  Dummies  sq_income  \\\n",
       "0  A12345     0.538462  Edge    -0.078566  10000   0        50.000000   \n",
       "1  A123090    0.269231  Escape   0.048172  4704    1        52.163205   \n",
       "2  A233835   -1.115385  Fseries  0.505233  3765    2        59.312731   \n",
       "3  A344580   -0.269231  Missing -0.196129  3923    3        47.906158   \n",
       "4  A455325   -0.115385  Escape  -0.732330  4897    1        36.878178   \n",
       "\n",
       "   cb_income  log_income  Cartype1  \n",
       "0  13.572088  7.824046    0         \n",
       "1  13.960775  7.908755    1         \n",
       "2  15.208928  8.165648    2         \n",
       "3  13.190489  7.738488    3         \n",
       "4  11.079317  7.215240    1         "
      ]
     },
     "execution_count": 93,
     "metadata": {},
     "output_type": "execute_result"
    }
   ],
   "source": [
    "robust_features[col_names] = features\n",
    "robust_features.head()"
   ]
  },
  {
   "cell_type": "markdown",
   "metadata": {},
   "source": [
    "#### Difference\n",
    "\n",
    "1.MinMaxScaler will transform each value in the column proportionally within the range [0,1]. Use this as the first scaler choice to transform a feature, as it will preserve the shape of the dataset (no distortion).\n",
    "\n",
    "2.StandardScaler() will transform each value in the column to range about the mean 0 and standard deviation 1, ie, each value will be normalised by subtracting the mean and dividing by standard deviation. Use StandardScaler if you know the data distribution is normal.\n",
    "\n",
    "If there are outliers, use RobustScaler(). Alternatively you could remove the outliers and use either of the above 2 scalers (choice depends on whether data is normally distributed)\n",
    "\n",
    "Additional Note: If scaler is used before train_test_split, data leakage will happen. Do use scaler after train_test_split"
   ]
  },
  {
   "cell_type": "markdown",
   "metadata": {},
   "source": [
    "### ThankYou!"
   ]
  }
 ],
 "metadata": {
  "kernelspec": {
   "display_name": "Python 3",
   "language": "python",
   "name": "python3"
  },
  "language_info": {
   "codemirror_mode": {
    "name": "ipython",
    "version": 3
   },
   "file_extension": ".py",
   "mimetype": "text/x-python",
   "name": "python",
   "nbconvert_exporter": "python",
   "pygments_lexer": "ipython3",
   "version": "3.6.5"
  }
 },
 "nbformat": 4,
 "nbformat_minor": 2
}
