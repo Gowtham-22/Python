{
 "cells": [
  {
   "cell_type": "markdown",
   "metadata": {},
   "source": [
    "# Topic 3: Descriptive Statistics"
   ]
  },
  {
   "cell_type": "code",
   "execution_count": 1,
   "metadata": {},
   "outputs": [],
   "source": [
    "#Import Required Packages\n",
    "\n",
    "import pandas as pd\n",
    "import numpy as np\n",
    "import warnings\n",
    "warnings.filterwarnings(\"ignore\")"
   ]
  },
  {
   "cell_type": "code",
   "execution_count": 2,
   "metadata": {},
   "outputs": [],
   "source": [
    "#Pulling the data\n",
    "\n",
    "data = pd.read_excel(r'C:\\Users\\DDEBAPRI\\Desktop\\Topic_3.xlsx', sheet_name = 'Final_Data')"
   ]
  },
  {
   "cell_type": "code",
   "execution_count": 3,
   "metadata": {},
   "outputs": [
    {
     "data": {
      "text/html": [
       "<div>\n",
       "<style scoped>\n",
       "    .dataframe tbody tr th:only-of-type {\n",
       "        vertical-align: middle;\n",
       "    }\n",
       "\n",
       "    .dataframe tbody tr th {\n",
       "        vertical-align: top;\n",
       "    }\n",
       "\n",
       "    .dataframe thead th {\n",
       "        text-align: right;\n",
       "    }\n",
       "</style>\n",
       "<table border=\"1\" class=\"dataframe\">\n",
       "  <thead>\n",
       "    <tr style=\"text-align: right;\">\n",
       "      <th></th>\n",
       "      <th>model</th>\n",
       "      <th>income</th>\n",
       "      <th>age</th>\n",
       "      <th>education</th>\n",
       "      <th>gender</th>\n",
       "      <th>marital_status</th>\n",
       "      <th>states</th>\n",
       "      <th>date</th>\n",
       "      <th>amount</th>\n",
       "    </tr>\n",
       "  </thead>\n",
       "  <tbody>\n",
       "    <tr>\n",
       "      <th>0</th>\n",
       "      <td>F-SERIES SUPER DUTY</td>\n",
       "      <td>5.0</td>\n",
       "      <td>NaN</td>\n",
       "      <td>NaN</td>\n",
       "      <td>M</td>\n",
       "      <td>M</td>\n",
       "      <td>OR</td>\n",
       "      <td>2020-02-04</td>\n",
       "      <td>NaN</td>\n",
       "    </tr>\n",
       "    <tr>\n",
       "      <th>1</th>\n",
       "      <td>EXPLORER</td>\n",
       "      <td>NaN</td>\n",
       "      <td>NaN</td>\n",
       "      <td>4.0</td>\n",
       "      <td>F</td>\n",
       "      <td>M</td>\n",
       "      <td>FL</td>\n",
       "      <td>2020-03-19</td>\n",
       "      <td>NaN</td>\n",
       "    </tr>\n",
       "    <tr>\n",
       "      <th>2</th>\n",
       "      <td>ESCAPE</td>\n",
       "      <td>3.0</td>\n",
       "      <td>110.0</td>\n",
       "      <td>0.0</td>\n",
       "      <td>M</td>\n",
       "      <td>S</td>\n",
       "      <td>NY</td>\n",
       "      <td>2020-03-11</td>\n",
       "      <td>500.0</td>\n",
       "    </tr>\n",
       "    <tr>\n",
       "      <th>3</th>\n",
       "      <td>FUSION</td>\n",
       "      <td>NaN</td>\n",
       "      <td>108.0</td>\n",
       "      <td>5.0</td>\n",
       "      <td>M</td>\n",
       "      <td>M</td>\n",
       "      <td>FL</td>\n",
       "      <td>2020-03-23</td>\n",
       "      <td>286.0</td>\n",
       "    </tr>\n",
       "    <tr>\n",
       "      <th>4</th>\n",
       "      <td>F-SERIES</td>\n",
       "      <td>3.0</td>\n",
       "      <td>19.0</td>\n",
       "      <td>0.0</td>\n",
       "      <td>F</td>\n",
       "      <td>S</td>\n",
       "      <td>PA</td>\n",
       "      <td>2020-05-21</td>\n",
       "      <td>550.0</td>\n",
       "    </tr>\n",
       "  </tbody>\n",
       "</table>\n",
       "</div>"
      ],
      "text/plain": [
       "                 model  income    age  education gender marital_status states  \\\n",
       "0  F-SERIES SUPER DUTY     5.0    NaN        NaN      M              M     OR   \n",
       "1             EXPLORER     NaN    NaN        4.0      F              M     FL   \n",
       "2               ESCAPE     3.0  110.0        0.0      M              S     NY   \n",
       "3               FUSION     NaN  108.0        5.0      M              M     FL   \n",
       "4             F-SERIES     3.0   19.0        0.0      F              S     PA   \n",
       "\n",
       "        date  amount  \n",
       "0 2020-02-04     NaN  \n",
       "1 2020-03-19     NaN  \n",
       "2 2020-03-11   500.0  \n",
       "3 2020-03-23   286.0  \n",
       "4 2020-05-21   550.0  "
      ]
     },
     "execution_count": 3,
     "metadata": {},
     "output_type": "execute_result"
    }
   ],
   "source": [
    "#Viewing top 5 rows\n",
    "\n",
    "data.head(5)"
   ]
  },
  {
   "cell_type": "markdown",
   "metadata": {},
   "source": [
    "# Checking nulls and zeros and removing them"
   ]
  },
  {
   "cell_type": "code",
   "execution_count": 4,
   "metadata": {},
   "outputs": [
    {
     "name": "stdout",
     "output_type": "stream",
     "text": [
      "<class 'pandas.core.frame.DataFrame'>\n",
      "RangeIndex: 886 entries, 0 to 885\n",
      "Data columns (total 9 columns):\n",
      "model             886 non-null object\n",
      "income            553 non-null float64\n",
      "age               680 non-null float64\n",
      "education         699 non-null float64\n",
      "gender            886 non-null object\n",
      "marital_status    886 non-null object\n",
      "states            886 non-null object\n",
      "date              886 non-null datetime64[ns]\n",
      "amount            884 non-null float64\n",
      "dtypes: datetime64[ns](1), float64(4), object(4)\n",
      "memory usage: 62.4+ KB\n"
     ]
    }
   ],
   "source": [
    "#Checking the non-null counts and variable types\n",
    "\n",
    "data.info()"
   ]
  },
  {
   "cell_type": "code",
   "execution_count": null,
   "metadata": {},
   "outputs": [],
   "source": [
    "#Counting null values for all the columns\n",
    "#axis = 0 implies summing them across columns\n",
    "\n",
    "mis_val = data.isnull().sum(axis=0).sort_values(ascending = False).rename('Missing Values')\n",
    "mis_val"
   ]
  },
  {
   "cell_type": "code",
   "execution_count": null,
   "metadata": {},
   "outputs": [],
   "source": [
    "#Counting null values for all the columns in percentage\n",
    "\n",
    "mis_val_percent = (100 * data.isnull().sum() / len(data)).round(2).rename('% of Missing Values')\n",
    "mis_val_percent"
   ]
  },
  {
   "cell_type": "code",
   "execution_count": null,
   "metadata": {},
   "outputs": [],
   "source": [
    "#Counting zero values for all the columns\n",
    "\n",
    "zero_val = (data == 0).astype(int).sum().rename('zero_val').rename('Zero Values')"
   ]
  },
  {
   "cell_type": "code",
   "execution_count": null,
   "metadata": {},
   "outputs": [],
   "source": [
    "#Counting zero values for all the columns in percentage\n",
    "\n",
    "zero_val_percent = (100 * (data == 0).astype(int).sum()/ len(data)).round(2).rename('% of Zero Values')"
   ]
  },
  {
   "cell_type": "code",
   "execution_count": null,
   "metadata": {},
   "outputs": [],
   "source": [
    "#Creating a table to show the variables created above\n",
    "\n",
    "table = pd.concat([zero_val,zero_val_percent, mis_val, mis_val_percent], axis=1)\n",
    "table"
   ]
  },
  {
   "cell_type": "code",
   "execution_count": null,
   "metadata": {},
   "outputs": [],
   "source": [
    "#Replacing 0 with Null for variables where having a zero value does not make sense\n",
    "\n",
    "data['age'].replace(0, np.nan, inplace = True)\n",
    "data.info()"
   ]
  },
  {
   "cell_type": "code",
   "execution_count": null,
   "metadata": {},
   "outputs": [],
   "source": [
    "#Drop the rows with Null values and check\n",
    "\n",
    "data1 = data.dropna()\n",
    "data1.info()"
   ]
  },
  {
   "cell_type": "code",
   "execution_count": null,
   "metadata": {},
   "outputs": [],
   "source": [
    "#Change the data types according to business definition\n",
    "\n",
    "data1['income'] = data1['income'].astype(str)\n",
    "data1['education'] = data1['education'].astype(str)\n",
    "data1['age'] = data1['age'].astype(int)\n",
    "data1['amount'] = data1['amount'].astype(int)\n",
    "\n",
    "#Converting to string\n",
    "\n",
    "data2 = data1\n",
    "\n",
    "from datetime import datetime as dt\n",
    "\n",
    "#data2['date'] = data2['date'].dt.strftime(\"%m-%d-%Y\")\n",
    "#data2[['date']]\n",
    "\n",
    "#add keeping filter for dates\n",
    "\n",
    "\n",
    "#Converting back to datetime\n",
    "#data2['date'] = pd.to_datetime(data2['date'], format=\"%m-%d-%Y\")\n",
    "#data2[['date']]\n",
    "\n",
    "data1.info()"
   ]
  },
  {
   "cell_type": "code",
   "execution_count": null,
   "metadata": {},
   "outputs": [],
   "source": [
    "#Viewing top 5 rows\n",
    "\n",
    "#Reseting the index of the data\n",
    "data1 = data1.reset_index(drop = True)\n",
    "\n",
    "#If you want the indexing to start from 1\n",
    "#data1.index = data1.index + 1\n",
    "\n",
    "data1.head()"
   ]
  },
  {
   "cell_type": "markdown",
   "metadata": {},
   "source": [
    "# Checking basic Central Tendency measures"
   ]
  },
  {
   "cell_type": "code",
   "execution_count": null,
   "metadata": {
    "scrolled": true
   },
   "outputs": [],
   "source": [
    "#By default checks Count, Mean, Std. Deviation, Min, Max, 25th, 50th(median), 75th Percentiles for Numerical Variables\n",
    "\n",
    "#Percentile list to be shown\n",
    "perc = [.01,.25,.75, .99]\n",
    "\n",
    "data1.describe(percentiles = perc, include = 'all').round().T"
   ]
  },
  {
   "cell_type": "code",
   "execution_count": null,
   "metadata": {},
   "outputs": [],
   "source": [
    "#Checking distribution for Categorical Variables\n",
    "\n",
    "income = data1['income'].value_counts().rename('income')\n",
    "income.plot(kind = 'bar')"
   ]
  },
  {
   "cell_type": "code",
   "execution_count": null,
   "metadata": {},
   "outputs": [],
   "source": [
    "#Checking Mode of Numerical Variables\n",
    "\n",
    "mode = data1[['age']].mode()\n",
    "mode\n",
    "\n",
    "#Cross checking the mode\n",
    "#data1['age'].value_counts()"
   ]
  },
  {
   "cell_type": "code",
   "execution_count": null,
   "metadata": {},
   "outputs": [],
   "source": [
    "#Calling reqd. packages\n",
    "\n",
    "from scipy.stats import norm\n",
    "\n",
    "#Checking Skewness and Kurtosis\n",
    "\n",
    "skew, kurt = norm.stats(moments='sk')\n",
    "\n",
    "skew = data1[['age']].skew().rename('skewness')\n",
    "kurt = data1[['age']].kurt().rename('kurtosis')\n",
    "desc_table = pd.concat([skew,kurt], axis = 1)\n",
    "desc_table"
   ]
  },
  {
   "cell_type": "markdown",
   "metadata": {},
   "source": [
    "# Checking normality for numerical variables"
   ]
  },
  {
   "cell_type": "markdown",
   "metadata": {},
   "source": [
    "#### Histogram"
   ]
  },
  {
   "cell_type": "code",
   "execution_count": null,
   "metadata": {},
   "outputs": [],
   "source": [
    "#Calling reqd. packages\n",
    "\n",
    "from matplotlib import pyplot\n",
    "\n",
    "# Histogram plot\n",
    "\n",
    "pyplot.hist(data1['age'])\n",
    "pyplot.show()"
   ]
  },
  {
   "cell_type": "markdown",
   "metadata": {},
   "source": [
    "#### Q-Q Plot"
   ]
  },
  {
   "cell_type": "code",
   "execution_count": null,
   "metadata": {},
   "outputs": [],
   "source": [
    "#Calling reqd. packages\n",
    "\n",
    "from statsmodels.graphics.gofplots import qqplot\n",
    "from matplotlib import pyplot\n",
    "\n",
    "# q-q plot\n",
    "qqplot(data1['age'], line='s')\n",
    "pyplot.show()"
   ]
  },
  {
   "cell_type": "markdown",
   "metadata": {},
   "source": [
    "#### Box Plot"
   ]
  },
  {
   "cell_type": "code",
   "execution_count": null,
   "metadata": {},
   "outputs": [],
   "source": [
    "#Box Plot\n",
    "\n",
    "data = pd.DataFrame(data)\n",
    "data1['age'].plot(kind = 'box')"
   ]
  },
  {
   "cell_type": "markdown",
   "metadata": {},
   "source": [
    "#### Kolmogorov Smirnov test"
   ]
  },
  {
   "cell_type": "code",
   "execution_count": null,
   "metadata": {},
   "outputs": [],
   "source": [
    "#K-S Test for Normality\n",
    "\n",
    "from scipy.stats import kstest, norm\n",
    "\n",
    "#Do not forget to mention the mean and the std. dev.\n",
    "stat, p = kstest(data1['age'],'norm', args=(57,14))\n",
    "print('Statistics=%.3f, p=%.3f' % (stat, p))\n",
    "\n",
    "# Interpretation\n",
    "alpha = 0.05\n",
    "if p > alpha:\n",
    "    print('Sample looks Gaussian (fail to reject H0)')\n",
    "else:\n",
    "    print('Sample does not look Gaussian (reject H0)')"
   ]
  },
  {
   "cell_type": "markdown",
   "metadata": {},
   "source": [
    "# Checking for Normality for a Non Normal Distribution"
   ]
  },
  {
   "cell_type": "code",
   "execution_count": null,
   "metadata": {},
   "outputs": [],
   "source": [
    "#Calling reqd. packages\n",
    "from scipy.stats import norm\n",
    "\n",
    "#Checking Skewness and Kurtosis\n",
    "skew, kurt = norm.stats(moments='sk')\n",
    "\n",
    "skew = data1[['amount']].skew().rename('skewness')\n",
    "kurt = data1[['amount']].kurt().rename('kurtosis')\n",
    "desc_table = pd.concat([skew,kurt], axis = 1)\n",
    "desc_table"
   ]
  },
  {
   "cell_type": "markdown",
   "metadata": {},
   "source": [
    "#### Histogram"
   ]
  },
  {
   "cell_type": "code",
   "execution_count": null,
   "metadata": {},
   "outputs": [],
   "source": [
    "#Calling reqd. packages\n",
    "from matplotlib import pyplot\n",
    "\n",
    "# histogram plot\n",
    "pyplot.hist(data1['amount'])\n",
    "pyplot.show()"
   ]
  },
  {
   "cell_type": "markdown",
   "metadata": {},
   "source": [
    "#### Q-Q Plot"
   ]
  },
  {
   "cell_type": "code",
   "execution_count": null,
   "metadata": {},
   "outputs": [],
   "source": [
    "#Calling reqd. packages\n",
    "from statsmodels.graphics.gofplots import qqplot\n",
    "from matplotlib import pyplot\n",
    "\n",
    "# q-q plot\n",
    "\n",
    "qqplot(data1['amount'], line='s')\n",
    "pyplot.show()"
   ]
  },
  {
   "cell_type": "markdown",
   "metadata": {},
   "source": [
    "#### Box Plot"
   ]
  },
  {
   "cell_type": "code",
   "execution_count": null,
   "metadata": {
    "scrolled": true
   },
   "outputs": [],
   "source": [
    "# Box Plot\n",
    "\n",
    "data = pd.DataFrame(data)\n",
    "data1['amount'].plot(kind = 'box')"
   ]
  },
  {
   "cell_type": "markdown",
   "metadata": {},
   "source": [
    "#### Kolmogorov Smirnov test"
   ]
  },
  {
   "cell_type": "code",
   "execution_count": null,
   "metadata": {},
   "outputs": [],
   "source": [
    "#K-S Test for Normality\n",
    "\n",
    "from scipy.stats import kstest, norm\n",
    "\n",
    "#Do not forget to mention the mean and the std. dev.\n",
    "stat, p = kstest(data1['amount'],'norm', args=(114,96))\n",
    "print('Statistics=%.3f, p=%.3f' % (stat, p))\n",
    "\n",
    "# Interpretation\n",
    "alpha = 0.05\n",
    "if p > alpha:\n",
    "    print('Sample looks Gaussian (fail to reject H0)')\n",
    "else:\n",
    "    print('Sample does not look Gaussian (reject H0)')"
   ]
  },
  {
   "cell_type": "markdown",
   "metadata": {},
   "source": [
    "# Thank You!"
   ]
  },
  {
   "cell_type": "code",
   "execution_count": null,
   "metadata": {},
   "outputs": [],
   "source": []
  }
 ],
 "metadata": {
  "kernelspec": {
   "display_name": "Python 3",
   "language": "python",
   "name": "python3"
  },
  "language_info": {
   "codemirror_mode": {
    "name": "ipython",
    "version": 3
   },
   "file_extension": ".py",
   "mimetype": "text/x-python",
   "name": "python",
   "nbconvert_exporter": "python",
   "pygments_lexer": "ipython3",
   "version": "3.6.8"
  }
 },
 "nbformat": 4,
 "nbformat_minor": 2
}
