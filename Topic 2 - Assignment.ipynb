{
 "cells": [
  {
   "cell_type": "markdown",
   "metadata": {},
   "source": [
    "### Topic 2 : Data Slicing / Dicing : Assignment\n",
    "Filter,Join ,Append, Concat,Group by,Series"
   ]
  },
  {
   "cell_type": "markdown",
   "metadata": {},
   "source": [
    "#### 1. Mention the required packages ?"
   ]
  },
  {
   "cell_type": "code",
   "execution_count": null,
   "metadata": {},
   "outputs": [],
   "source": []
  },
  {
   "cell_type": "markdown",
   "metadata": {},
   "source": [
    "#### 2. Create a dataframe with car brand and price of the product as 2 columns s as follows\n",
    "\n",
    "###### Brand  #Price\n",
    "Ford         10000\n",
    "toyota       20000\n",
    "honda        30000\n",
    "hyndai       34000\n",
    "maruthi      30000"
   ]
  },
  {
   "cell_type": "code",
   "execution_count": null,
   "metadata": {},
   "outputs": [],
   "source": []
  },
  {
   "cell_type": "markdown",
   "metadata": {},
   "source": [
    "#### 3. create a dataframe which has price value equal to 30000"
   ]
  },
  {
   "cell_type": "code",
   "execution_count": null,
   "metadata": {},
   "outputs": [],
   "source": []
  },
  {
   "cell_type": "markdown",
   "metadata": {},
   "source": [
    "#### 4. create a dataframe with brands (Ford, honda)"
   ]
  },
  {
   "cell_type": "code",
   "execution_count": null,
   "metadata": {},
   "outputs": [],
   "source": []
  },
  {
   "cell_type": "markdown",
   "metadata": {},
   "source": [
    "#####  5. Create 4 dataframes as follows\n",
    " \n",
    "##### Table1 (3 columns)\n",
    "\n",
    "ID Age Car\n",
    "1,  18,  Ford,\n",
    "2,  25,  Toyota,\n",
    "3,  35,  Honda,\n",
    "4,  45,  Ford,\n",
    "5,  65,  Fseries,\n",
    "\n",
    "##### Table2 (3 columns)\n",
    "\n",
    "ID state children \n",
    "2,  TX,    3,\n",
    "3,  MI,    4,\n",
    "4,  UT,    1,\n",
    "6,  OR,    5,\n",
    "7,  CA,    2,\n",
    "\n",
    "##### Table3(2 columns)\n",
    "\n",
    "ID CustomerType\n",
    " \n",
    " 1,   Owner,\n",
    " 2,   Lease,\n",
    " 4,   Lease,\n",
    " 7,   Owner,\n",
    " \n",
    "##### Table4(3 columns)\n",
    "\n",
    "ID Age Car\n",
    "5,  18,  Ford,\n",
    "7,  25,  Toyota,\n",
    "7,  35,  Honda,\n",
    "6,  45,  Ford,\n",
    "\n"
   ]
  },
  {
   "cell_type": "code",
   "execution_count": null,
   "metadata": {},
   "outputs": [],
   "source": []
  },
  {
   "cell_type": "markdown",
   "metadata": {},
   "source": [
    "##### 6. Append table1 and table4 using concat & append function  separately"
   ]
  },
  {
   "cell_type": "code",
   "execution_count": null,
   "metadata": {},
   "outputs": [],
   "source": []
  },
  {
   "cell_type": "markdown",
   "metadata": {},
   "source": [
    "##### 7.Inner join of table1 and table2 using concat function (join should be based on the index)"
   ]
  },
  {
   "cell_type": "code",
   "execution_count": null,
   "metadata": {},
   "outputs": [],
   "source": []
  },
  {
   "cell_type": "markdown",
   "metadata": {},
   "source": [
    "##### 8. Append table1, table2 and table3"
   ]
  },
  {
   "cell_type": "code",
   "execution_count": null,
   "metadata": {},
   "outputs": [],
   "source": []
  },
  {
   "cell_type": "markdown",
   "metadata": {},
   "source": [
    "##### 9. Inner Join table1, table2  & table 3 based on the primari key (ID) . Also try all join type (left, right and outer)\n",
    "\n",
    "Note : Check the count of records after join and save the values"
   ]
  },
  {
   "cell_type": "code",
   "execution_count": null,
   "metadata": {},
   "outputs": [],
   "source": []
  },
  {
   "cell_type": "markdown",
   "metadata": {},
   "source": [
    "##### 10. left join table1 and table 4 also validate wheter it is one to one join or one to many"
   ]
  },
  {
   "cell_type": "code",
   "execution_count": null,
   "metadata": {},
   "outputs": [],
   "source": []
  },
  {
   "cell_type": "markdown",
   "metadata": {},
   "source": [
    "##### 11. Add a additional row and column to table 4 using series function"
   ]
  },
  {
   "cell_type": "code",
   "execution_count": null,
   "metadata": {},
   "outputs": [],
   "source": []
  },
  {
   "cell_type": "markdown",
   "metadata": {},
   "source": [
    "##### 12. Filter for alphabet \"r\" in column \"car\" of table1 using series"
   ]
  },
  {
   "cell_type": "code",
   "execution_count": null,
   "metadata": {},
   "outputs": [],
   "source": []
  },
  {
   "cell_type": "markdown",
   "metadata": {},
   "source": [
    "Note : For doubt clarification contact : pinduma2\n",
    "### Thank you!!!!"
   ]
  }
 ],
 "metadata": {
  "kernelspec": {
   "display_name": "Python 3",
   "language": "python",
   "name": "python3"
  },
  "language_info": {
   "codemirror_mode": {
    "name": "ipython",
    "version": 3
   },
   "file_extension": ".py",
   "mimetype": "text/x-python",
   "name": "python",
   "nbconvert_exporter": "python",
   "pygments_lexer": "ipython3",
   "version": "3.6.5"
  }
 },
 "nbformat": 4,
 "nbformat_minor": 2
}
